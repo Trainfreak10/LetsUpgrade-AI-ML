{
 "cells": [
  {
   "cell_type": "markdown",
   "metadata": {},
   "source": [
    "Day 12 ASSIGNMENT"
   ]
  },
  {
   "cell_type": "code",
   "execution_count": 3,
   "metadata": {},
   "outputs": [],
   "source": [
    "import pandas as pd \n",
    "from scipy.stats import wilcoxon\n",
    "from scipy.stats import friedmanchisquare\n",
    "from scipy.stats import mannwhitneyu\n",
    "from scipy.stats import kruskal\n",
    "from scipy.stats import chi2_contingency\n",
    "from scipy.stats import ttest_1samp\n",
    "from scipy.stats import ttest_rel\n",
    "from scipy.stats import ttest_ind"
   ]
  },
  {
   "cell_type": "code",
   "execution_count": 7,
   "metadata": {},
   "outputs": [
    {
     "data": {
      "text/html": [
       "<div>\n",
       "<style scoped>\n",
       "    .dataframe tbody tr th:only-of-type {\n",
       "        vertical-align: middle;\n",
       "    }\n",
       "\n",
       "    .dataframe tbody tr th {\n",
       "        vertical-align: top;\n",
       "    }\n",
       "\n",
       "    .dataframe thead th {\n",
       "        text-align: right;\n",
       "    }\n",
       "</style>\n",
       "<table border=\"1\" class=\"dataframe\">\n",
       "  <thead>\n",
       "    <tr style=\"text-align: right;\">\n",
       "      <th></th>\n",
       "      <th>Age</th>\n",
       "      <th>Attrition</th>\n",
       "      <th>BusinessTravel</th>\n",
       "      <th>Department</th>\n",
       "      <th>DistanceFromHome</th>\n",
       "      <th>Education</th>\n",
       "      <th>EducationField</th>\n",
       "      <th>EmployeeCount</th>\n",
       "      <th>EmployeeID</th>\n",
       "      <th>Gender</th>\n",
       "      <th>...</th>\n",
       "      <th>NumCompaniesWorked</th>\n",
       "      <th>Over18</th>\n",
       "      <th>PercentSalaryHike</th>\n",
       "      <th>StandardHours</th>\n",
       "      <th>StockOptionLevel</th>\n",
       "      <th>TotalWorkingYears</th>\n",
       "      <th>TrainingTimesLastYear</th>\n",
       "      <th>YearsAtCompany</th>\n",
       "      <th>YearsSinceLastPromotion</th>\n",
       "      <th>YearsWithCurrManager</th>\n",
       "    </tr>\n",
       "  </thead>\n",
       "  <tbody>\n",
       "    <tr>\n",
       "      <th>0</th>\n",
       "      <td>51</td>\n",
       "      <td>No</td>\n",
       "      <td>Travel_Rarely</td>\n",
       "      <td>Sales</td>\n",
       "      <td>6</td>\n",
       "      <td>2</td>\n",
       "      <td>Life Sciences</td>\n",
       "      <td>1</td>\n",
       "      <td>1</td>\n",
       "      <td>Female</td>\n",
       "      <td>...</td>\n",
       "      <td>1.0</td>\n",
       "      <td>Y</td>\n",
       "      <td>11</td>\n",
       "      <td>8</td>\n",
       "      <td>0</td>\n",
       "      <td>1.0</td>\n",
       "      <td>6</td>\n",
       "      <td>1</td>\n",
       "      <td>0</td>\n",
       "      <td>0</td>\n",
       "    </tr>\n",
       "    <tr>\n",
       "      <th>1</th>\n",
       "      <td>31</td>\n",
       "      <td>Yes</td>\n",
       "      <td>Travel_Frequently</td>\n",
       "      <td>Research &amp; Development</td>\n",
       "      <td>10</td>\n",
       "      <td>1</td>\n",
       "      <td>Life Sciences</td>\n",
       "      <td>1</td>\n",
       "      <td>2</td>\n",
       "      <td>Female</td>\n",
       "      <td>...</td>\n",
       "      <td>0.0</td>\n",
       "      <td>Y</td>\n",
       "      <td>23</td>\n",
       "      <td>8</td>\n",
       "      <td>1</td>\n",
       "      <td>6.0</td>\n",
       "      <td>3</td>\n",
       "      <td>5</td>\n",
       "      <td>1</td>\n",
       "      <td>4</td>\n",
       "    </tr>\n",
       "    <tr>\n",
       "      <th>2</th>\n",
       "      <td>32</td>\n",
       "      <td>No</td>\n",
       "      <td>Travel_Frequently</td>\n",
       "      <td>Research &amp; Development</td>\n",
       "      <td>17</td>\n",
       "      <td>4</td>\n",
       "      <td>Other</td>\n",
       "      <td>1</td>\n",
       "      <td>3</td>\n",
       "      <td>Male</td>\n",
       "      <td>...</td>\n",
       "      <td>1.0</td>\n",
       "      <td>Y</td>\n",
       "      <td>15</td>\n",
       "      <td>8</td>\n",
       "      <td>3</td>\n",
       "      <td>5.0</td>\n",
       "      <td>2</td>\n",
       "      <td>5</td>\n",
       "      <td>0</td>\n",
       "      <td>3</td>\n",
       "    </tr>\n",
       "    <tr>\n",
       "      <th>3</th>\n",
       "      <td>38</td>\n",
       "      <td>No</td>\n",
       "      <td>Non-Travel</td>\n",
       "      <td>Research &amp; Development</td>\n",
       "      <td>2</td>\n",
       "      <td>5</td>\n",
       "      <td>Life Sciences</td>\n",
       "      <td>1</td>\n",
       "      <td>4</td>\n",
       "      <td>Male</td>\n",
       "      <td>...</td>\n",
       "      <td>3.0</td>\n",
       "      <td>Y</td>\n",
       "      <td>11</td>\n",
       "      <td>8</td>\n",
       "      <td>3</td>\n",
       "      <td>13.0</td>\n",
       "      <td>5</td>\n",
       "      <td>8</td>\n",
       "      <td>7</td>\n",
       "      <td>5</td>\n",
       "    </tr>\n",
       "    <tr>\n",
       "      <th>4</th>\n",
       "      <td>32</td>\n",
       "      <td>No</td>\n",
       "      <td>Travel_Rarely</td>\n",
       "      <td>Research &amp; Development</td>\n",
       "      <td>10</td>\n",
       "      <td>1</td>\n",
       "      <td>Medical</td>\n",
       "      <td>1</td>\n",
       "      <td>5</td>\n",
       "      <td>Male</td>\n",
       "      <td>...</td>\n",
       "      <td>4.0</td>\n",
       "      <td>Y</td>\n",
       "      <td>12</td>\n",
       "      <td>8</td>\n",
       "      <td>2</td>\n",
       "      <td>9.0</td>\n",
       "      <td>2</td>\n",
       "      <td>6</td>\n",
       "      <td>0</td>\n",
       "      <td>4</td>\n",
       "    </tr>\n",
       "  </tbody>\n",
       "</table>\n",
       "<p>5 rows × 24 columns</p>\n",
       "</div>"
      ],
      "text/plain": [
       "   Age Attrition     BusinessTravel              Department  DistanceFromHome  \\\n",
       "0   51        No      Travel_Rarely                   Sales                 6   \n",
       "1   31       Yes  Travel_Frequently  Research & Development                10   \n",
       "2   32        No  Travel_Frequently  Research & Development                17   \n",
       "3   38        No         Non-Travel  Research & Development                 2   \n",
       "4   32        No      Travel_Rarely  Research & Development                10   \n",
       "\n",
       "   Education EducationField  EmployeeCount  EmployeeID  Gender  ...  \\\n",
       "0          2  Life Sciences              1           1  Female  ...   \n",
       "1          1  Life Sciences              1           2  Female  ...   \n",
       "2          4          Other              1           3    Male  ...   \n",
       "3          5  Life Sciences              1           4    Male  ...   \n",
       "4          1        Medical              1           5    Male  ...   \n",
       "\n",
       "   NumCompaniesWorked Over18 PercentSalaryHike  StandardHours  \\\n",
       "0                 1.0      Y                11              8   \n",
       "1                 0.0      Y                23              8   \n",
       "2                 1.0      Y                15              8   \n",
       "3                 3.0      Y                11              8   \n",
       "4                 4.0      Y                12              8   \n",
       "\n",
       "   StockOptionLevel TotalWorkingYears  TrainingTimesLastYear  YearsAtCompany  \\\n",
       "0                 0               1.0                      6               1   \n",
       "1                 1               6.0                      3               5   \n",
       "2                 3               5.0                      2               5   \n",
       "3                 3              13.0                      5               8   \n",
       "4                 2               9.0                      2               6   \n",
       "\n",
       "   YearsSinceLastPromotion  YearsWithCurrManager  \n",
       "0                        0                     0  \n",
       "1                        1                     4  \n",
       "2                        0                     3  \n",
       "3                        7                     5  \n",
       "4                        0                     4  \n",
       "\n",
       "[5 rows x 24 columns]"
      ]
     },
     "execution_count": 7,
     "metadata": {},
     "output_type": "execute_result"
    }
   ],
   "source": [
    "GD = pd.read_csv(\"D:\\AI-ML\\Day 6\\general_data.csv\")\n",
    "GD.head()"
   ]
  },
  {
   "cell_type": "code",
   "execution_count": 8,
   "metadata": {},
   "outputs": [],
   "source": [
    "GD.dropna(inplace=True)"
   ]
  },
  {
   "cell_type": "code",
   "execution_count": 9,
   "metadata": {},
   "outputs": [
    {
     "data": {
      "text/plain": [
       "Age                        0\n",
       "Attrition                  0\n",
       "BusinessTravel             0\n",
       "Department                 0\n",
       "DistanceFromHome           0\n",
       "Education                  0\n",
       "EducationField             0\n",
       "EmployeeCount              0\n",
       "EmployeeID                 0\n",
       "Gender                     0\n",
       "JobLevel                   0\n",
       "JobRole                    0\n",
       "MaritalStatus              0\n",
       "MonthlyIncome              0\n",
       "NumCompaniesWorked         0\n",
       "Over18                     0\n",
       "PercentSalaryHike          0\n",
       "StandardHours              0\n",
       "StockOptionLevel           0\n",
       "TotalWorkingYears          0\n",
       "TrainingTimesLastYear      0\n",
       "YearsAtCompany             0\n",
       "YearsSinceLastPromotion    0\n",
       "YearsWithCurrManager       0\n",
       "dtype: int64"
      ]
     },
     "execution_count": 9,
     "metadata": {},
     "output_type": "execute_result"
    }
   ],
   "source": [
    "GD.isnull().sum()"
   ]
  },
  {
   "cell_type": "code",
   "execution_count": 10,
   "metadata": {},
   "outputs": [
    {
     "data": {
      "text/plain": [
       "Index(['Age', 'Attrition', 'BusinessTravel', 'Department', 'DistanceFromHome',\n",
       "       'Education', 'EducationField', 'EmployeeCount', 'EmployeeID', 'Gender',\n",
       "       'JobLevel', 'JobRole', 'MaritalStatus', 'MonthlyIncome',\n",
       "       'NumCompaniesWorked', 'Over18', 'PercentSalaryHike', 'StandardHours',\n",
       "       'StockOptionLevel', 'TotalWorkingYears', 'TrainingTimesLastYear',\n",
       "       'YearsAtCompany', 'YearsSinceLastPromotion', 'YearsWithCurrManager'],\n",
       "      dtype='object')"
      ]
     },
     "execution_count": 10,
     "metadata": {},
     "output_type": "execute_result"
    }
   ],
   "source": [
    "GD.columns\n"
   ]
  },
  {
   "cell_type": "code",
   "execution_count": 11,
   "metadata": {},
   "outputs": [
    {
     "data": {
      "text/plain": [
       "0       False\n",
       "1       False\n",
       "2       False\n",
       "3       False\n",
       "4       False\n",
       "        ...  \n",
       "4404    False\n",
       "4405    False\n",
       "4406    False\n",
       "4407    False\n",
       "4408    False\n",
       "Length: 4382, dtype: bool"
      ]
     },
     "execution_count": 11,
     "metadata": {},
     "output_type": "execute_result"
    }
   ],
   "source": [
    "GD.duplicated()"
   ]
  },
  {
   "cell_type": "code",
   "execution_count": 12,
   "metadata": {},
   "outputs": [
    {
     "data": {
      "text/html": [
       "<div>\n",
       "<style scoped>\n",
       "    .dataframe tbody tr th:only-of-type {\n",
       "        vertical-align: middle;\n",
       "    }\n",
       "\n",
       "    .dataframe tbody tr th {\n",
       "        vertical-align: top;\n",
       "    }\n",
       "\n",
       "    .dataframe thead th {\n",
       "        text-align: right;\n",
       "    }\n",
       "</style>\n",
       "<table border=\"1\" class=\"dataframe\">\n",
       "  <thead>\n",
       "    <tr style=\"text-align: right;\">\n",
       "      <th></th>\n",
       "      <th>Age</th>\n",
       "      <th>Attrition</th>\n",
       "      <th>BusinessTravel</th>\n",
       "      <th>Department</th>\n",
       "      <th>DistanceFromHome</th>\n",
       "      <th>Education</th>\n",
       "      <th>EducationField</th>\n",
       "      <th>EmployeeCount</th>\n",
       "      <th>EmployeeID</th>\n",
       "      <th>Gender</th>\n",
       "      <th>...</th>\n",
       "      <th>NumCompaniesWorked</th>\n",
       "      <th>Over18</th>\n",
       "      <th>PercentSalaryHike</th>\n",
       "      <th>StandardHours</th>\n",
       "      <th>StockOptionLevel</th>\n",
       "      <th>TotalWorkingYears</th>\n",
       "      <th>TrainingTimesLastYear</th>\n",
       "      <th>YearsAtCompany</th>\n",
       "      <th>YearsSinceLastPromotion</th>\n",
       "      <th>YearsWithCurrManager</th>\n",
       "    </tr>\n",
       "  </thead>\n",
       "  <tbody>\n",
       "    <tr>\n",
       "      <th>0</th>\n",
       "      <td>51</td>\n",
       "      <td>No</td>\n",
       "      <td>Travel_Rarely</td>\n",
       "      <td>Sales</td>\n",
       "      <td>6</td>\n",
       "      <td>2</td>\n",
       "      <td>Life Sciences</td>\n",
       "      <td>1</td>\n",
       "      <td>1</td>\n",
       "      <td>Female</td>\n",
       "      <td>...</td>\n",
       "      <td>1.0</td>\n",
       "      <td>Y</td>\n",
       "      <td>11</td>\n",
       "      <td>8</td>\n",
       "      <td>0</td>\n",
       "      <td>1.0</td>\n",
       "      <td>6</td>\n",
       "      <td>1</td>\n",
       "      <td>0</td>\n",
       "      <td>0</td>\n",
       "    </tr>\n",
       "    <tr>\n",
       "      <th>1</th>\n",
       "      <td>31</td>\n",
       "      <td>Yes</td>\n",
       "      <td>Travel_Frequently</td>\n",
       "      <td>Research &amp; Development</td>\n",
       "      <td>10</td>\n",
       "      <td>1</td>\n",
       "      <td>Life Sciences</td>\n",
       "      <td>1</td>\n",
       "      <td>2</td>\n",
       "      <td>Female</td>\n",
       "      <td>...</td>\n",
       "      <td>0.0</td>\n",
       "      <td>Y</td>\n",
       "      <td>23</td>\n",
       "      <td>8</td>\n",
       "      <td>1</td>\n",
       "      <td>6.0</td>\n",
       "      <td>3</td>\n",
       "      <td>5</td>\n",
       "      <td>1</td>\n",
       "      <td>4</td>\n",
       "    </tr>\n",
       "    <tr>\n",
       "      <th>2</th>\n",
       "      <td>32</td>\n",
       "      <td>No</td>\n",
       "      <td>Travel_Frequently</td>\n",
       "      <td>Research &amp; Development</td>\n",
       "      <td>17</td>\n",
       "      <td>4</td>\n",
       "      <td>Other</td>\n",
       "      <td>1</td>\n",
       "      <td>3</td>\n",
       "      <td>Male</td>\n",
       "      <td>...</td>\n",
       "      <td>1.0</td>\n",
       "      <td>Y</td>\n",
       "      <td>15</td>\n",
       "      <td>8</td>\n",
       "      <td>3</td>\n",
       "      <td>5.0</td>\n",
       "      <td>2</td>\n",
       "      <td>5</td>\n",
       "      <td>0</td>\n",
       "      <td>3</td>\n",
       "    </tr>\n",
       "    <tr>\n",
       "      <th>3</th>\n",
       "      <td>38</td>\n",
       "      <td>No</td>\n",
       "      <td>Non-Travel</td>\n",
       "      <td>Research &amp; Development</td>\n",
       "      <td>2</td>\n",
       "      <td>5</td>\n",
       "      <td>Life Sciences</td>\n",
       "      <td>1</td>\n",
       "      <td>4</td>\n",
       "      <td>Male</td>\n",
       "      <td>...</td>\n",
       "      <td>3.0</td>\n",
       "      <td>Y</td>\n",
       "      <td>11</td>\n",
       "      <td>8</td>\n",
       "      <td>3</td>\n",
       "      <td>13.0</td>\n",
       "      <td>5</td>\n",
       "      <td>8</td>\n",
       "      <td>7</td>\n",
       "      <td>5</td>\n",
       "    </tr>\n",
       "    <tr>\n",
       "      <th>4</th>\n",
       "      <td>32</td>\n",
       "      <td>No</td>\n",
       "      <td>Travel_Rarely</td>\n",
       "      <td>Research &amp; Development</td>\n",
       "      <td>10</td>\n",
       "      <td>1</td>\n",
       "      <td>Medical</td>\n",
       "      <td>1</td>\n",
       "      <td>5</td>\n",
       "      <td>Male</td>\n",
       "      <td>...</td>\n",
       "      <td>4.0</td>\n",
       "      <td>Y</td>\n",
       "      <td>12</td>\n",
       "      <td>8</td>\n",
       "      <td>2</td>\n",
       "      <td>9.0</td>\n",
       "      <td>2</td>\n",
       "      <td>6</td>\n",
       "      <td>0</td>\n",
       "      <td>4</td>\n",
       "    </tr>\n",
       "    <tr>\n",
       "      <th>...</th>\n",
       "      <td>...</td>\n",
       "      <td>...</td>\n",
       "      <td>...</td>\n",
       "      <td>...</td>\n",
       "      <td>...</td>\n",
       "      <td>...</td>\n",
       "      <td>...</td>\n",
       "      <td>...</td>\n",
       "      <td>...</td>\n",
       "      <td>...</td>\n",
       "      <td>...</td>\n",
       "      <td>...</td>\n",
       "      <td>...</td>\n",
       "      <td>...</td>\n",
       "      <td>...</td>\n",
       "      <td>...</td>\n",
       "      <td>...</td>\n",
       "      <td>...</td>\n",
       "      <td>...</td>\n",
       "      <td>...</td>\n",
       "      <td>...</td>\n",
       "    </tr>\n",
       "    <tr>\n",
       "      <th>4404</th>\n",
       "      <td>29</td>\n",
       "      <td>No</td>\n",
       "      <td>Travel_Rarely</td>\n",
       "      <td>Sales</td>\n",
       "      <td>4</td>\n",
       "      <td>3</td>\n",
       "      <td>Other</td>\n",
       "      <td>1</td>\n",
       "      <td>4405</td>\n",
       "      <td>Female</td>\n",
       "      <td>...</td>\n",
       "      <td>1.0</td>\n",
       "      <td>Y</td>\n",
       "      <td>18</td>\n",
       "      <td>8</td>\n",
       "      <td>0</td>\n",
       "      <td>6.0</td>\n",
       "      <td>2</td>\n",
       "      <td>6</td>\n",
       "      <td>1</td>\n",
       "      <td>5</td>\n",
       "    </tr>\n",
       "    <tr>\n",
       "      <th>4405</th>\n",
       "      <td>42</td>\n",
       "      <td>No</td>\n",
       "      <td>Travel_Rarely</td>\n",
       "      <td>Research &amp; Development</td>\n",
       "      <td>5</td>\n",
       "      <td>4</td>\n",
       "      <td>Medical</td>\n",
       "      <td>1</td>\n",
       "      <td>4406</td>\n",
       "      <td>Female</td>\n",
       "      <td>...</td>\n",
       "      <td>3.0</td>\n",
       "      <td>Y</td>\n",
       "      <td>17</td>\n",
       "      <td>8</td>\n",
       "      <td>1</td>\n",
       "      <td>10.0</td>\n",
       "      <td>5</td>\n",
       "      <td>3</td>\n",
       "      <td>0</td>\n",
       "      <td>2</td>\n",
       "    </tr>\n",
       "    <tr>\n",
       "      <th>4406</th>\n",
       "      <td>29</td>\n",
       "      <td>No</td>\n",
       "      <td>Travel_Rarely</td>\n",
       "      <td>Research &amp; Development</td>\n",
       "      <td>2</td>\n",
       "      <td>4</td>\n",
       "      <td>Medical</td>\n",
       "      <td>1</td>\n",
       "      <td>4407</td>\n",
       "      <td>Male</td>\n",
       "      <td>...</td>\n",
       "      <td>2.0</td>\n",
       "      <td>Y</td>\n",
       "      <td>15</td>\n",
       "      <td>8</td>\n",
       "      <td>0</td>\n",
       "      <td>10.0</td>\n",
       "      <td>2</td>\n",
       "      <td>3</td>\n",
       "      <td>0</td>\n",
       "      <td>2</td>\n",
       "    </tr>\n",
       "    <tr>\n",
       "      <th>4407</th>\n",
       "      <td>25</td>\n",
       "      <td>No</td>\n",
       "      <td>Travel_Rarely</td>\n",
       "      <td>Research &amp; Development</td>\n",
       "      <td>25</td>\n",
       "      <td>2</td>\n",
       "      <td>Life Sciences</td>\n",
       "      <td>1</td>\n",
       "      <td>4408</td>\n",
       "      <td>Male</td>\n",
       "      <td>...</td>\n",
       "      <td>0.0</td>\n",
       "      <td>Y</td>\n",
       "      <td>20</td>\n",
       "      <td>8</td>\n",
       "      <td>0</td>\n",
       "      <td>5.0</td>\n",
       "      <td>4</td>\n",
       "      <td>4</td>\n",
       "      <td>1</td>\n",
       "      <td>2</td>\n",
       "    </tr>\n",
       "    <tr>\n",
       "      <th>4408</th>\n",
       "      <td>42</td>\n",
       "      <td>No</td>\n",
       "      <td>Travel_Rarely</td>\n",
       "      <td>Sales</td>\n",
       "      <td>18</td>\n",
       "      <td>2</td>\n",
       "      <td>Medical</td>\n",
       "      <td>1</td>\n",
       "      <td>4409</td>\n",
       "      <td>Male</td>\n",
       "      <td>...</td>\n",
       "      <td>0.0</td>\n",
       "      <td>Y</td>\n",
       "      <td>14</td>\n",
       "      <td>8</td>\n",
       "      <td>1</td>\n",
       "      <td>10.0</td>\n",
       "      <td>2</td>\n",
       "      <td>9</td>\n",
       "      <td>7</td>\n",
       "      <td>8</td>\n",
       "    </tr>\n",
       "  </tbody>\n",
       "</table>\n",
       "<p>4382 rows × 24 columns</p>\n",
       "</div>"
      ],
      "text/plain": [
       "      Age Attrition     BusinessTravel              Department  \\\n",
       "0      51        No      Travel_Rarely                   Sales   \n",
       "1      31       Yes  Travel_Frequently  Research & Development   \n",
       "2      32        No  Travel_Frequently  Research & Development   \n",
       "3      38        No         Non-Travel  Research & Development   \n",
       "4      32        No      Travel_Rarely  Research & Development   \n",
       "...   ...       ...                ...                     ...   \n",
       "4404   29        No      Travel_Rarely                   Sales   \n",
       "4405   42        No      Travel_Rarely  Research & Development   \n",
       "4406   29        No      Travel_Rarely  Research & Development   \n",
       "4407   25        No      Travel_Rarely  Research & Development   \n",
       "4408   42        No      Travel_Rarely                   Sales   \n",
       "\n",
       "      DistanceFromHome  Education EducationField  EmployeeCount  EmployeeID  \\\n",
       "0                    6          2  Life Sciences              1           1   \n",
       "1                   10          1  Life Sciences              1           2   \n",
       "2                   17          4          Other              1           3   \n",
       "3                    2          5  Life Sciences              1           4   \n",
       "4                   10          1        Medical              1           5   \n",
       "...                ...        ...            ...            ...         ...   \n",
       "4404                 4          3          Other              1        4405   \n",
       "4405                 5          4        Medical              1        4406   \n",
       "4406                 2          4        Medical              1        4407   \n",
       "4407                25          2  Life Sciences              1        4408   \n",
       "4408                18          2        Medical              1        4409   \n",
       "\n",
       "      Gender  ...  NumCompaniesWorked Over18 PercentSalaryHike  StandardHours  \\\n",
       "0     Female  ...                 1.0      Y                11              8   \n",
       "1     Female  ...                 0.0      Y                23              8   \n",
       "2       Male  ...                 1.0      Y                15              8   \n",
       "3       Male  ...                 3.0      Y                11              8   \n",
       "4       Male  ...                 4.0      Y                12              8   \n",
       "...      ...  ...                 ...    ...               ...            ...   \n",
       "4404  Female  ...                 1.0      Y                18              8   \n",
       "4405  Female  ...                 3.0      Y                17              8   \n",
       "4406    Male  ...                 2.0      Y                15              8   \n",
       "4407    Male  ...                 0.0      Y                20              8   \n",
       "4408    Male  ...                 0.0      Y                14              8   \n",
       "\n",
       "      StockOptionLevel TotalWorkingYears  TrainingTimesLastYear  \\\n",
       "0                    0               1.0                      6   \n",
       "1                    1               6.0                      3   \n",
       "2                    3               5.0                      2   \n",
       "3                    3              13.0                      5   \n",
       "4                    2               9.0                      2   \n",
       "...                ...               ...                    ...   \n",
       "4404                 0               6.0                      2   \n",
       "4405                 1              10.0                      5   \n",
       "4406                 0              10.0                      2   \n",
       "4407                 0               5.0                      4   \n",
       "4408                 1              10.0                      2   \n",
       "\n",
       "      YearsAtCompany  YearsSinceLastPromotion  YearsWithCurrManager  \n",
       "0                  1                        0                     0  \n",
       "1                  5                        1                     4  \n",
       "2                  5                        0                     3  \n",
       "3                  8                        7                     5  \n",
       "4                  6                        0                     4  \n",
       "...              ...                      ...                   ...  \n",
       "4404               6                        1                     5  \n",
       "4405               3                        0                     2  \n",
       "4406               3                        0                     2  \n",
       "4407               4                        1                     2  \n",
       "4408               9                        7                     8  \n",
       "\n",
       "[4382 rows x 24 columns]"
      ]
     },
     "execution_count": 12,
     "metadata": {},
     "output_type": "execute_result"
    }
   ],
   "source": [
    "GD.drop_duplicates()"
   ]
  },
  {
   "cell_type": "code",
   "execution_count": 13,
   "metadata": {},
   "outputs": [
    {
     "name": "stdout",
     "output_type": "stream",
     "text": [
      "BusinessTravel  Non-Travel  Travel_Frequently  Travel_Rarely\n",
      "Attrition                                                   \n",
      "No                     412                621           2644\n",
      "Yes                     36                204            465\n"
     ]
    }
   ],
   "source": [
    "chisquare_table = pd.crosstab(GD.Attrition,GD.BusinessTravel)\n",
    "print(chisquare_table)"
   ]
  },
  {
   "cell_type": "code",
   "execution_count": 14,
   "metadata": {},
   "outputs": [
    {
     "name": "stdout",
     "output_type": "stream",
     "text": [
      "stats: 70.07594084831366 , p: 6.07019702736392e-16\n"
     ]
    }
   ],
   "source": [
    "\n",
    "stats,p,dof,expeted = chi2_contingency(chisquare_table)\n",
    "print(\"stats:\",stats,\",\",\"p:\",p)"
   ]
  },
  {
   "cell_type": "markdown",
   "metadata": {},
   "source": [
    "As p < 0.05 Null Hypothesis is rejected\n",
    "\n",
    "HA, Alternative Hypothesis is accepted.\n",
    "\n",
    "Hence, Attrition and Bussiness travel have some dependency\n",
    "\n",
    "# 2) Department"
   ]
  },
  {
   "cell_type": "code",
   "execution_count": 15,
   "metadata": {},
   "outputs": [
    {
     "name": "stdout",
     "output_type": "stream",
     "text": [
      "Department  Human Resources  Research & Development  Sales\n",
      "Attrition                                                 \n",
      "No                      132                    2416   1129\n",
      "Yes                      55                     449    201\n"
     ]
    }
   ],
   "source": [
    "chisquare_table = pd.crosstab(GD.Attrition,GD.Department)\n",
    "print(chisquare_table)"
   ]
  },
  {
   "cell_type": "code",
   "execution_count": 16,
   "metadata": {},
   "outputs": [
    {
     "name": "stdout",
     "output_type": "stream",
     "text": [
      "stats: 25.89432541916022 , p: 2.382970570769315e-06\n"
     ]
    }
   ],
   "source": [
    "stats,p,dof,expeted = chi2_contingency(chisquare_table)\n",
    "print(\"stats:\",stats,\",\",\"p:\",p)"
   ]
  },
  {
   "cell_type": "markdown",
   "metadata": {},
   "source": [
    "H0 = attrition and Department have no dependency\n",
    "\n",
    "p < 0.05 ,(H0) Null hypothesis is rejected\n",
    "\n",
    "Alternative Hypothesis (HA) is accepted\n",
    "\n",
    "There is dependency between Department and attrition\n",
    "\n",
    "# 3) Education Field"
   ]
  },
  {
   "cell_type": "code",
   "execution_count": 17,
   "metadata": {},
   "outputs": [
    {
     "name": "stdout",
     "output_type": "stream",
     "text": [
      "EducationField  Human Resources  Life Sciences  Marketing  Medical  Other  \\\n",
      "Attrition                                                                   \n",
      "No                           48           1505        400     1163    214   \n",
      "Yes                          32            301         75      222     30   \n",
      "\n",
      "EducationField  Technical Degree  \n",
      "Attrition                         \n",
      "No                           347  \n",
      "Yes                           45  \n"
     ]
    }
   ],
   "source": [
    "chisquare_table = pd.crosstab(GD.Attrition,GD.EducationField)\n",
    "print(chisquare_table)"
   ]
  },
  {
   "cell_type": "code",
   "execution_count": 18,
   "metadata": {},
   "outputs": [
    {
     "name": "stdout",
     "output_type": "stream",
     "text": [
      "stats: 43.132860148900384 , p: 3.472896220587872e-08\n"
     ]
    }
   ],
   "source": [
    "stats,p,dof,expeted = chi2_contingency(chisquare_table)\n",
    "print(\"stats:\",stats,\",\",\"p:\",p)"
   ]
  },
  {
   "cell_type": "markdown",
   "metadata": {},
   "source": [
    "p < 0.05 ,(H0) Null hypothesis is rejected\n",
    "\n",
    "Alternative Hypothesis (HA) is accepted\n",
    "\n",
    "There is dependency between Department and Educational Field.\n",
    "\n",
    "# Gender"
   ]
  },
  {
   "cell_type": "code",
   "execution_count": 19,
   "metadata": {},
   "outputs": [
    {
     "name": "stdout",
     "output_type": "stream",
     "text": [
      "Gender     Female  Male\n",
      "Attrition              \n",
      "No           1488  2189\n",
      "Yes           268   437\n"
     ]
    }
   ],
   "source": [
    "chisquare_table = pd.crosstab(GD.Attrition,GD.Gender)\n",
    "print(chisquare_table)"
   ]
  },
  {
   "cell_type": "code",
   "execution_count": 20,
   "metadata": {},
   "outputs": [
    {
     "name": "stdout",
     "output_type": "stream",
     "text": [
      "stats: 1.3825823839528295 , p: 0.23966176275638887\n"
     ]
    }
   ],
   "source": [
    "stats,p,dof,expeted = chi2_contingency(chisquare_table)\n",
    "print(\"stats:\",stats,\",\",\"p:\",p)"
   ]
  },
  {
   "cell_type": "markdown",
   "metadata": {},
   "source": [
    "H0 = There is no dependency between between Job Roles and Attrition rate.\n",
    "\n",
    "So, p<0.05, reject H0.\n",
    "\n",
    "So, there is a dependency between Job Roles and Attrition rate.\n",
    "\n",
    "# Job Role"
   ]
  },
  {
   "cell_type": "code",
   "execution_count": 21,
   "metadata": {},
   "outputs": [
    {
     "name": "stdout",
     "output_type": "stream",
     "text": [
      "JobRole    Healthcare Representative  Human Resources  Laboratory Technician  \\\n",
      "Attrition                                                                      \n",
      "No                               333              135                    648   \n",
      "Yes                               56               21                    125   \n",
      "\n",
      "JobRole    Manager  Manufacturing Director  Research Director  \\\n",
      "Attrition                                                       \n",
      "No             263                     381                183   \n",
      "Yes             42                      48                 54   \n",
      "\n",
      "JobRole    Research Scientist  Sales Executive  Sales Representative  \n",
      "Attrition                                                             \n",
      "No                        714              810                   210  \n",
      "Yes                       158              165                    36  \n"
     ]
    }
   ],
   "source": [
    "chisquare_table = pd.crosstab(GD.Attrition,GD.JobRole)\n",
    "print(chisquare_table)"
   ]
  },
  {
   "cell_type": "code",
   "execution_count": 22,
   "metadata": {},
   "outputs": [
    {
     "name": "stdout",
     "output_type": "stream",
     "text": [
      "stats: 21.893724958847 , p: 0.005116592717526599\n"
     ]
    }
   ],
   "source": [
    "stats,p,dof,expeted = chi2_contingency(chisquare_table)\n",
    "print(\"stats:\",stats,\",\",\"p:\",p)"
   ]
  },
  {
   "cell_type": "markdown",
   "metadata": {},
   "source": [
    "H0 = There is no dependency between between Job Roles and Attrition rate.\n",
    "\n",
    "So, p<0.05, reject H0.\n",
    "\n",
    "So, there is a dependency between Job Roles and Attrition rate.\n",
    "\n",
    "# Martial Status"
   ]
  },
  {
   "cell_type": "code",
   "execution_count": 23,
   "metadata": {},
   "outputs": [
    {
     "name": "stdout",
     "output_type": "stream",
     "text": [
      "MaritalStatus  Divorced  Married  Single\n",
      "Attrition                               \n",
      "No                  872     1756    1049\n",
      "Yes                  98      251     356\n"
     ]
    }
   ],
   "source": [
    "chisquare_table = pd.crosstab(GD.Attrition,GD.MaritalStatus)\n",
    "print(chisquare_table)"
   ]
  },
  {
   "cell_type": "code",
   "execution_count": 24,
   "metadata": {},
   "outputs": [
    {
     "name": "stdout",
     "output_type": "stream",
     "text": [
      "stats: 133.85785802925156 , p: 8.573051828219379e-30\n"
     ]
    }
   ],
   "source": [
    "stats,p,dof,expeted = chi2_contingency(chisquare_table)\n",
    "print(\"stats:\",stats,\",\",\"p:\",p)"
   ]
  },
  {
   "cell_type": "markdown",
   "metadata": {},
   "source": [
    "H0 = There is no dependency between between Marital Status and Attrition rate.\n",
    "\n",
    "So, p<0.05, reject H0.\n",
    "\n",
    "So, there is a dependency between Marital Status and Attrition rate.\n",
    "\n",
    "# Age using Manwhitney"
   ]
  },
  {
   "cell_type": "code",
   "execution_count": 25,
   "metadata": {},
   "outputs": [
    {
     "name": "stdout",
     "output_type": "stream",
     "text": [
      "Attrition   No  Yes\n",
      "Age                \n",
      "18          12   11\n",
      "19           9   18\n",
      "20          15   18\n",
      "21          21   18\n",
      "22          32   15\n",
      "23          30   12\n",
      "24          57   21\n",
      "25          60   18\n",
      "26          80   36\n",
      "27         134    9\n",
      "28         102   40\n",
      "29         149   53\n",
      "30         152   27\n",
      "31         152   54\n",
      "32         149   33\n",
      "33         137   36\n",
      "34         204   27\n",
      "35         203   30\n",
      "36         187   18\n",
      "37         131   17\n",
      "38         167    6\n",
      "39         107   18\n",
      "40         153   15\n",
      "41         101   18\n",
      "42         131    6\n",
      "43          89    6\n",
      "44          81   18\n",
      "45         117    6\n",
      "46          87   12\n",
      "47          63    8\n",
      "48          51    6\n",
      "49          66    6\n",
      "50          75   15\n",
      "51          51    6\n",
      "52          44    9\n",
      "53          51    6\n",
      "54          54    0\n",
      "55          57    9\n",
      "56          32    9\n",
      "57          12    0\n",
      "58          27   15\n",
      "59          30    0\n",
      "60          15    0\n"
     ]
    }
   ],
   "source": [
    "table = pd.crosstab(GD.Age,GD.Attrition)\n",
    "print(table)"
   ]
  },
  {
   "cell_type": "code",
   "execution_count": 26,
   "metadata": {},
   "outputs": [
    {
     "name": "stdout",
     "output_type": "stream",
     "text": [
      "169.0 3.309751774702772e-11\n"
     ]
    }
   ],
   "source": [
    "stats,p = mannwhitneyu(table.No, table.Yes)\n",
    "print(stats,p)"
   ]
  },
  {
   "cell_type": "markdown",
   "metadata": {},
   "source": [
    "So, p<0.05, reject H0.\n",
    "\n",
    "So, there is a dependency between Age and Attrition rate.\n",
    "\n",
    "# Distance from Home"
   ]
  },
  {
   "cell_type": "code",
   "execution_count": 27,
   "metadata": {},
   "outputs": [
    {
     "name": "stdout",
     "output_type": "stream",
     "text": [
      "Attrition          No  Yes\n",
      "DistanceFromHome          \n",
      "1                 528   94\n",
      "2                 513  114\n",
      "3                 219   29\n",
      "4                 158   32\n",
      "5                 162   30\n",
      "6                 156   21\n",
      "7                 204   48\n",
      "8                 206   33\n",
      "9                 218   35\n",
      "10                198   60\n",
      "11                 78    9\n",
      "12                 44   15\n",
      "13                 53    3\n",
      "14                 59    3\n",
      "15                 45   33\n",
      "16                 80   15\n",
      "17                 48   12\n",
      "18                 63   15\n",
      "19                 48   18\n",
      "20                 65    9\n",
      "21                 48    6\n",
      "22                 48    9\n",
      "23                 68   12\n",
      "24                 75    9\n",
      "25                 69    6\n",
      "26                 72    3\n",
      "27                 27    9\n",
      "28                 56   11\n",
      "29                 69   12\n"
     ]
    }
   ],
   "source": [
    "table = pd.crosstab(GD.DistanceFromHome,GD.Attrition)\n",
    "print(table)"
   ]
  },
  {
   "cell_type": "code",
   "execution_count": 28,
   "metadata": {},
   "outputs": [
    {
     "name": "stdout",
     "output_type": "stream",
     "text": [
      "59.0 9.615899502737067e-09\n"
     ]
    }
   ],
   "source": [
    "stats,p = mannwhitneyu(table.No, table.Yes)\n",
    "print(stats,p)"
   ]
  },
  {
   "cell_type": "markdown",
   "metadata": {},
   "source": [
    "So, p<0.05, reject H0.\n",
    "\n",
    "So, there is a dependency between Distance from home and Attrition rate.\n",
    "\n",
    "# Salary hike in%"
   ]
  },
  {
   "cell_type": "code",
   "execution_count": 29,
   "metadata": {},
   "outputs": [
    {
     "name": "stdout",
     "output_type": "stream",
     "text": [
      "Attrition           No  Yes\n",
      "PercentSalaryHike          \n",
      "11                 538   90\n",
      "12                 502   89\n",
      "13                 522  100\n",
      "14                 510   87\n",
      "15                 239   63\n",
      "16                 202   29\n",
      "17                 199   43\n",
      "18                 227   39\n",
      "19                 186   42\n",
      "20                 138   27\n",
      "21                 115   27\n",
      "22                 138   30\n",
      "23                  68   15\n",
      "24                  54    9\n",
      "25                  39   15\n"
     ]
    }
   ],
   "source": [
    "table = pd.crosstab(GD.PercentSalaryHike,GD.Attrition)\n",
    "print(table)"
   ]
  },
  {
   "cell_type": "code",
   "execution_count": 30,
   "metadata": {},
   "outputs": [
    {
     "name": "stdout",
     "output_type": "stream",
     "text": [
      "16.5 3.701943462476957e-05\n"
     ]
    }
   ],
   "source": [
    "stats,p = mannwhitneyu(table.No, table.Yes)\n",
    "print(stats,p)"
   ]
  },
  {
   "cell_type": "markdown",
   "metadata": {},
   "source": [
    "H0 = There is no dependency between between Job Roles and Attrition rate.\n",
    "\n",
    "So, p<0.05, reject H0.\n",
    "\n",
    "So, there is a dependency between Percent Salary Hike and Attrition rate.\n",
    "\n",
    "# Total Working Hours"
   ]
  },
  {
   "cell_type": "code",
   "execution_count": 31,
   "metadata": {},
   "outputs": [
    {
     "name": "stdout",
     "output_type": "stream",
     "text": [
      "Attrition           No  Yes\n",
      "TotalWorkingYears          \n",
      "0.0                 18   14\n",
      "1.0                122  119\n",
      "2.0                 66   27\n",
      "3.0                 99   27\n",
      "4.0                152   36\n",
      "5.0                214   48\n",
      "6.0                307   65\n",
      "7.0                189   52\n",
      "8.0                259   47\n",
      "9.0                255   30\n",
      "10.0               527   75\n",
      "11.0                85   21\n",
      "12.0               129   15\n",
      "13.0                99    9\n",
      "14.0                81   12\n",
      "15.0               105   15\n",
      "16.0               102    9\n",
      "17.0                90    9\n",
      "18.0                68   12\n",
      "19.0                57    9\n",
      "20.0                82    6\n",
      "21.0                99    3\n",
      "22.0                56    6\n",
      "23.0                60    6\n",
      "24.0                45    9\n",
      "25.0                39    3\n",
      "26.0                39    3\n",
      "27.0                21    0\n",
      "28.0                38    3\n",
      "29.0                30    0\n",
      "30.0                21    0\n",
      "31.0                24    3\n",
      "32.0                27    0\n",
      "33.0                18    3\n",
      "34.0                12    3\n",
      "35.0                 9    0\n",
      "36.0                18    0\n",
      "37.0                12    0\n",
      "38.0                 3    0\n",
      "40.0                 0    6\n"
     ]
    }
   ],
   "source": [
    "table = pd.crosstab(GD.TotalWorkingYears,GD.Attrition)\n",
    "print(table)"
   ]
  },
  {
   "cell_type": "code",
   "execution_count": 32,
   "metadata": {},
   "outputs": [
    {
     "name": "stdout",
     "output_type": "stream",
     "text": [
      "239.5 3.3806217185020045e-08\n"
     ]
    }
   ],
   "source": [
    "\n",
    "stats,p = mannwhitneyu(table.No, table.Yes)\n",
    "print(stats,p)"
   ]
  },
  {
   "cell_type": "markdown",
   "metadata": {},
   "source": [
    "So, p<0.05, reject H0.\n",
    "\n",
    "So, there is a dependency between Total Working Hours and Attrition rate\n",
    "\n",
    "# Stock option"
   ]
  },
  {
   "cell_type": "code",
   "execution_count": 33,
   "metadata": {},
   "outputs": [
    {
     "name": "stdout",
     "output_type": "stream",
     "text": [
      "Attrition           No  Yes\n",
      "StockOptionLevel           \n",
      "0                 1564  316\n",
      "1                 1509  267\n",
      "2                  388   84\n",
      "3                  216   38\n"
     ]
    }
   ],
   "source": [
    "table = pd.crosstab(GD.StockOptionLevel,GD.Attrition)\n",
    "print(table)"
   ]
  },
  {
   "cell_type": "code",
   "execution_count": 34,
   "metadata": {},
   "outputs": [
    {
     "name": "stdout",
     "output_type": "stream",
     "text": [
      "2.0 0.056175598845231926\n"
     ]
    }
   ],
   "source": [
    "stats,p = mannwhitneyu(table.No, table.Yes)\n",
    "print(stats,p)"
   ]
  },
  {
   "cell_type": "markdown",
   "metadata": {},
   "source": [
    "H0 : There is no significant difference between StockOptionLevels of employees who left the company and those who did not.\n",
    "\n",
    "H1 : There is a significant difference between StockOptionLevel employees who left the company and those who did not.\n",
    "\n",
    "As, p>0.05: accept H0.\n",
    "\n",
    "So, There is no significant difference in StockOptionLevel of employees who left the company and those who did not.\n",
    "\n",
    "# Training time last year"
   ]
  },
  {
   "cell_type": "code",
   "execution_count": 35,
   "metadata": {},
   "outputs": [
    {
     "name": "stdout",
     "output_type": "stream",
     "text": [
      "Attrition                No  Yes\n",
      "TrainingTimesLastYear           \n",
      "0                       132   30\n",
      "1                       183   29\n",
      "2                      1351  278\n",
      "3                      1208  258\n",
      "4                       318   47\n",
      "5                       303   51\n",
      "6                       182   12\n"
     ]
    }
   ],
   "source": [
    "table = pd.crosstab(GD.TrainingTimesLastYear,GD.Attrition)\n",
    "print(table)"
   ]
  },
  {
   "cell_type": "code",
   "execution_count": 36,
   "metadata": {},
   "outputs": [
    {
     "name": "stdout",
     "output_type": "stream",
     "text": [
      "6.0 0.010725366843161034\n"
     ]
    }
   ],
   "source": [
    "stats,p = mannwhitneyu(table.No, table.Yes)\n",
    "print(stats,p)"
   ]
  },
  {
   "cell_type": "markdown",
   "metadata": {},
   "source": [
    "\n",
    "H0 : There is no significant difference between TrainingTimesLastYear of employees who left the company and those who did not.\n",
    "\n",
    "H1 : There is a significant difference between TrainingTimesLastYear employees who left the company and those who did not.\n",
    "\n",
    "As, p<0.05: reject H0.\n",
    "\n",
    "So, There is a significant difference in StockOptionLevel of employees who left the company and those who did not.\n",
    "\n",
    "# Years at company"
   ]
  },
  {
   "cell_type": "code",
   "execution_count": 37,
   "metadata": {},
   "outputs": [
    {
     "name": "stdout",
     "output_type": "stream",
     "text": [
      "            YearsAtCompany  YearsSinceLastPromotion  YearsWithCurrManager\n",
      "EmployeeID                                                               \n",
      "1                      5.0                      1.0                   4.0\n",
      "2                      5.0                      0.0                   3.0\n",
      "3                      8.0                      7.0                   5.0\n",
      "4                      6.0                      0.0                   4.0\n",
      "5                      7.0                      7.0                   7.0\n",
      "...                    ...                      ...                   ...\n",
      "4405                   3.0                      0.0                   2.0\n",
      "4406                   3.0                      0.0                   2.0\n",
      "4407                   4.0                      1.0                   2.0\n",
      "4408                   9.0                      7.0                   8.0\n",
      "4409                   NaN                      NaN                   NaN\n",
      "\n",
      "[4382 rows x 3 columns]\n"
     ]
    }
   ],
   "source": [
    "data={'YearsAtCompany':GD.YearsAtCompany,'YearsSinceLastPromotion':GD.YearsSinceLastPromotion,'YearsWithCurrManager':GD.YearsWithCurrManager}\n",
    "df = pd.DataFrame(data,index=GD.EmployeeID)\n",
    "print(df[['YearsAtCompany','YearsSinceLastPromotion','YearsWithCurrManager']])"
   ]
  },
  {
   "cell_type": "code",
   "execution_count": 38,
   "metadata": {},
   "outputs": [
    {
     "name": "stdout",
     "output_type": "stream",
     "text": [
      "6453.723879580441 0.0\n"
     ]
    }
   ],
   "source": [
    "\n",
    "stats,p = friedmanchisquare(GD.YearsAtCompany,GD.YearsSinceLastPromotion,GD.YearsWithCurrManager)\n",
    "print(stats,p)"
   ]
  },
  {
   "cell_type": "markdown",
   "metadata": {},
   "source": [
    "\n",
    "H0: There is no significant dependency between Years Since Last Promotion,Years with current manager and Years At Company.\n",
    "\n",
    "H1: There is a significant dependency between Years Since Last Promotion,Years with current manager and Years AtCompany.\n",
    "\n",
    "As, p<0.05, reject H0.\n",
    "\n",
    "There is a significant dependency between Years Since Last Promotion,Years with current manager and Years At Company"
   ]
  },
  {
   "cell_type": "code",
   "execution_count": null,
   "metadata": {},
   "outputs": [],
   "source": []
  }
 ],
 "metadata": {
  "kernelspec": {
   "display_name": "Python 3",
   "language": "python",
   "name": "python3"
  },
  "language_info": {
   "codemirror_mode": {
    "name": "ipython",
    "version": 3
   },
   "file_extension": ".py",
   "mimetype": "text/x-python",
   "name": "python",
   "nbconvert_exporter": "python",
   "pygments_lexer": "ipython3",
   "version": "3.7.6"
  }
 },
 "nbformat": 4,
 "nbformat_minor": 4
}
