{
  "nbformat": 4,
  "nbformat_minor": 0,
  "metadata": {
    "colab": {
      "name": "Untitled3.ipynb",
      "provenance": [],
      "collapsed_sections": []
    },
    "kernelspec": {
      "name": "python3",
      "display_name": "Python 3"
    }
  },
  "cells": [
    {
      "cell_type": "markdown",
      "metadata": {
        "id": "Xhy5PTkHMcMW",
        "colab_type": "text"
      },
      "source": [
        "Sets Day 6 Assignment"
      ]
    },
    {
      "cell_type": "markdown",
      "metadata": {
        "id": "m7Tlg3woMybO",
        "colab_type": "text"
      },
      "source": [
        "Question 3:\n",
        "Create your own Jupyter Notebook for Sets."
      ]
    },
    {
      "cell_type": "markdown",
      "metadata": {
        "id": "uTtlq2d1MlLt",
        "colab_type": "text"
      },
      "source": [
        "Set A set is a collection which is unordered and unindexed. In Python sets are written with curly brackets."
      ]
    },
    {
      "cell_type": "code",
      "metadata": {
        "id": "rmgzvBAQM5Re",
        "colab_type": "code",
        "colab": {
          "base_uri": "https://localhost:8080/",
          "height": 50
        },
        "outputId": "506f8d2a-a79f-4871-ec3e-f7c3e8aab620"
      },
      "source": [
        "\n",
        "# Different types of sets in Python\n",
        "# set of integers\n",
        "my_set = {1, 2, 3}\n",
        "print(my_set)\n",
        "\n",
        "# set of mixed datatypes\n",
        "my_set = {1.0, \"Hello\", (1, 2, 3)}\n",
        "print(my_set)"
      ],
      "execution_count": 1,
      "outputs": [
        {
          "output_type": "stream",
          "text": [
            "{1, 2, 3}\n",
            "{1.0, 'Hello', (1, 2, 3)}\n"
          ],
          "name": "stdout"
        }
      ]
    },
    {
      "cell_type": "markdown",
      "metadata": {
        "id": "WX3k7feNNDTu",
        "colab_type": "text"
      },
      "source": [
        "Empty curly braces {} will make an empty dictionary in Python. To make a set without any elements, we use the set() function without any argument."
      ]
    },
    {
      "cell_type": "code",
      "metadata": {
        "id": "305aw9CnNFId",
        "colab_type": "code",
        "colab": {
          "base_uri": "https://localhost:8080/",
          "height": 34
        },
        "outputId": "d2727da9-5c4f-45fd-ecdd-c19caa8a6741"
      },
      "source": [
        "a = set()\n",
        "\n",
        "# check data type of a\n",
        "print(type(a))"
      ],
      "execution_count": 2,
      "outputs": [
        {
          "output_type": "stream",
          "text": [
            "<class 'set'>\n"
          ],
          "name": "stdout"
        }
      ]
    },
    {
      "cell_type": "markdown",
      "metadata": {
        "id": "X1mlyX39NMON",
        "colab_type": "text"
      },
      "source": [
        "Modifying a set in Python Sets are mutable. However, since they are unordered, indexing has no meaning. We cannot access or change an element of a set using indexing or slicing. Set data type does not support it. We can add a single element using the add() method, and multiple elements using the update() method. The update() method can take tuples, lists, strings or other sets as its argument. In all cases, duplicates are avoided."
      ]
    },
    {
      "cell_type": "code",
      "metadata": {
        "id": "jjI4ksjbNWs4",
        "colab_type": "code",
        "colab": {
          "base_uri": "https://localhost:8080/",
          "height": 84
        },
        "outputId": "3047c5f7-e803-4284-8967-d7eb4f9b9c22"
      },
      "source": [
        "my_set = {1, 3}\n",
        "print(my_set)\n",
        "\n",
        "# add an element}\n",
        "my_set.add(2)\n",
        "print(my_set)\n",
        "\n",
        "# add multiple elements\n",
        "my_set.update([2, 3, 4])\n",
        "print(my_set)\n",
        "\n",
        "# add list and set\n",
        "my_set.update([4, 5], {1, 6, 8})\n",
        "print(my_set)"
      ],
      "execution_count": 3,
      "outputs": [
        {
          "output_type": "stream",
          "text": [
            "{1, 3}\n",
            "{1, 2, 3}\n",
            "{1, 2, 3, 4}\n",
            "{1, 2, 3, 4, 5, 6, 8}\n"
          ],
          "name": "stdout"
        }
      ]
    },
    {
      "cell_type": "markdown",
      "metadata": {
        "id": "u4h47mBVNeTl",
        "colab_type": "text"
      },
      "source": [
        "Removing elements from a set A particular item can be removed from a set using the methods discard() and remove(). The only difference between the two is that the discard() function leaves a set unchanged if the element is not present in the set. On the other hand, the remove() function will raise an error in such a condition (if element is not present in the set)."
      ]
    },
    {
      "cell_type": "code",
      "metadata": {
        "id": "_wJZEW82NgCd",
        "colab_type": "code",
        "colab": {
          "base_uri": "https://localhost:8080/",
          "height": 84
        },
        "outputId": "38ec430d-17b6-4779-8c28-ecc32c45513c"
      },
      "source": [
        "my_set = {1, 3, 4, 5, 6}\n",
        "print(my_set)\n",
        "\n",
        "# discard an element\n",
        "my_set.discard(4)\n",
        "print(my_set)\n",
        "\n",
        "# remove an element\n",
        "my_set.remove(6)\n",
        "print(my_set)\n",
        "\n",
        "# discard an element\n",
        "# not present in my_set\n",
        "my_set.discard(2)\n",
        "print(my_set)"
      ],
      "execution_count": 4,
      "outputs": [
        {
          "output_type": "stream",
          "text": [
            "{1, 3, 4, 5, 6}\n",
            "{1, 3, 5, 6}\n",
            "{1, 3, 5}\n",
            "{1, 3, 5}\n"
          ],
          "name": "stdout"
        }
      ]
    },
    {
      "cell_type": "markdown",
      "metadata": {
        "id": "25SPdKqrNlzN",
        "colab_type": "text"
      },
      "source": [
        "Similarly, we can remove and return an item using the pop() method. Since set is an unordered data type, there is no way of determining which item will be popped. It is completely arbitrary. We can also remove all the items from a set using the clear() method."
      ]
    },
    {
      "cell_type": "code",
      "metadata": {
        "id": "dSZpbubeNnWV",
        "colab_type": "code",
        "colab": {
          "base_uri": "https://localhost:8080/",
          "height": 101
        },
        "outputId": "480488c4-729a-4006-8e7c-55f78ec04e0b"
      },
      "source": [
        "my_set = set(\"HelloWorld\")\n",
        "print(my_set)\n",
        "\n",
        "# pop an element\n",
        "print(my_set.pop())\n",
        "\n",
        "# pop another element\n",
        "my_set.pop()\n",
        "print(my_set)\n",
        "\n",
        "# clear my_set\n",
        "my_set.clear()\n",
        "print(my_set)\n",
        "\n",
        "print(my_set)"
      ],
      "execution_count": 5,
      "outputs": [
        {
          "output_type": "stream",
          "text": [
            "{'W', 'o', 'H', 'l', 'd', 'r', 'e'}\n",
            "W\n",
            "{'H', 'l', 'd', 'r', 'e'}\n",
            "set()\n",
            "set()\n"
          ],
          "name": "stdout"
        }
      ]
    },
    {
      "cell_type": "markdown",
      "metadata": {
        "id": "dQW4HwWRNr02",
        "colab_type": "text"
      },
      "source": [
        "Other Python Set Methods There are many set methods, some of which we have already used above. Here is a list of all the methods that are available with the set objects: 1)add() Adds an element to the set 2)clear() Removes all elements from the set 3)copy() Returns a copy of the set 4)difference() Returns the difference of two or more sets as a new set 5)difference_update() Removes all elements of another set from this set 6)discard() Removes an element from the set if it is a member. (Do nothing if the element is not in set) 7)intersection() Returns the intersection of two sets as a new set 8)intersection_update() Updates the set with the intersection of itself and another 9)isdisjoint() Returns True if two sets have a null intersection 10)issubset() Returns True if another set contains this set 11)issuperset() Returns True if this set contains another set 12)pop() Removes and returns an arbitrary set element. Raises KeyError if the set is empty 13)remove() Removes an element from the set. If the element is not a member, raises a KeyError 14)symmetric_difference() Returns the symmetric difference of two sets as a new set 15)symmetric_difference_update() Updates a set with the symmetric difference of itself and another 16)union() Returns the union of sets in a new set 17)update() Updates the set with the union of itself and others"
      ]
    }
  ]
}