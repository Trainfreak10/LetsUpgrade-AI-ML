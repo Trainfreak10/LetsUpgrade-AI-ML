{
  "nbformat": 4,
  "nbformat_minor": 0,
  "metadata": {
    "colab": {
      "name": "Assignment day 5.ipynb",
      "provenance": [],
      "collapsed_sections": []
    },
    "kernelspec": {
      "name": "python3",
      "display_name": "Python 3"
    }
  },
  "cells": [
    {
      "cell_type": "markdown",
      "metadata": {
        "id": "52MxR1UJ2Kbb",
        "colab_type": "text"
      },
      "source": [
        "Assignment Day 5"
      ]
    },
    {
      "cell_type": "markdown",
      "metadata": {
        "id": "Fv9qYrKE2G8w",
        "colab_type": "text"
      },
      "source": [
        "Q.1 Write a Python program to find the first 20 non-even prime natural numbers.\n"
      ]
    },
    {
      "cell_type": "code",
      "metadata": {
        "id": "3ib5evxQ2I90",
        "colab_type": "code",
        "colab": {
          "base_uri": "https://localhost:8080/",
          "height": 34
        },
        "outputId": "094a10a5-38dd-479c-8204-551ec680eca8"
      },
      "source": [
        "nePrime =[]\n",
        "num =1\n",
        "\n",
        "while (len(nePrime) < 20):\n",
        "    div = []\n",
        "   \n",
        "    for i in range(1,num+1):\n",
        "        if (num%i == 0):\n",
        "            div.append(i)\n",
        "\n",
        "    if (len(div) == 2 and num%2 !=0):\n",
        "        nePrime.append(num)\n",
        "        \n",
        "    div.clear()   \n",
        "    num = num + 1\n",
        "\n",
        "print(nePrime)"
      ],
      "execution_count": 2,
      "outputs": [
        {
          "output_type": "stream",
          "text": [
            "[3, 5, 7, 11, 13, 17, 19, 23, 29, 31, 37, 41, 43, 47, 53, 59, 61, 67, 71, 73]\n"
          ],
          "name": "stdout"
        }
      ]
    },
    {
      "cell_type": "markdown",
      "metadata": {
        "id": "5P0ycyIC3KKH",
        "colab_type": "text"
      },
      "source": [
        "Q.2 Write a Python program to implement 15 functions of string"
      ]
    },
    {
      "cell_type": "code",
      "metadata": {
        "id": "z_FuJU2t3N08",
        "colab_type": "code",
        "colab": {
          "base_uri": "https://localhost:8080/",
          "height": 218
        },
        "outputId": "abbc1b8c-9728-4d3f-e2be-18532986ba26"
      },
      "source": [
        "a = \"Dadar \"\n",
        "b = \"Nerul\"\n",
        "\n",
        "print(a.upper())\n",
        "print(a.capitalize())\n",
        "print(a.lower())\n",
        "print(a.isalpha())\n",
        "print(a.isalnum())\n",
        "\n",
        "asplt = \"Welcome , to the world of ML,congrts\"\n",
        "print(asplt.split(','))\n",
        "print(asplt.title())\n",
        "space = \"      Ashok       \"\n",
        "print(space.strip())\n",
        "\n",
        "\n",
        "re = \"I'm from Bombay\"\n",
        "\n",
        "red = re.replace(\"Bombay\", \"Mumbai\")\n",
        "\n",
        "print(red)\n",
        "print(b.startswith(\"P\"))\n",
        "\n",
        "print(a.istitle())\n",
        "print(a.center(20))"
      ],
      "execution_count": 3,
      "outputs": [
        {
          "output_type": "stream",
          "text": [
            "DADAR \n",
            "Dadar \n",
            "dadar \n",
            "False\n",
            "False\n",
            "['Welcome ', ' to the world of ML', 'congrts']\n",
            "Welcome , To The World Of Ml,Congrts\n",
            "Ashok\n",
            "I'm from Mumbai\n",
            "False\n",
            "True\n",
            "       Dadar        \n"
          ],
          "name": "stdout"
        }
      ]
    },
    {
      "cell_type": "markdown",
      "metadata": {
        "id": "mAe3FW3-3pzb",
        "colab_type": "text"
      },
      "source": [
        "Q.3 Write a Python program to check if the given string is a Palindrome or Anagram or None of them.\n",
        "Display the message accordingly to the user."
      ]
    },
    {
      "cell_type": "code",
      "metadata": {
        "id": "90HEJDhB3wi0",
        "colab_type": "code",
        "colab": {
          "base_uri": "https://localhost:8080/",
          "height": 67
        },
        "outputId": "4dcbd332-e439-414d-cbc6-a9cebf99161a"
      },
      "source": [
        "  a=input(\"Enter a string \")\n",
        "  b=input(\"enter a string \")\n",
        "  if(b[::-1]==a):\n",
        "    print (\"string is a palindrome\")\n",
        "  elif (sorted(b)==sorted(a)):\n",
        "    print(\"string is an anagram\")\n",
        "  else:\n",
        "    print(\"string is neither palindrome or Anagram\" )\n",
        "        "
      ],
      "execution_count": 9,
      "outputs": [
        {
          "output_type": "stream",
          "text": [
            "Enter a string madam\n",
            "enter a string damaa\n",
            "string is neither palindrome or Anagram\n"
          ],
          "name": "stdout"
        }
      ]
    },
    {
      "cell_type": "markdown",
      "metadata": {
        "id": "rjh-5WhI64m3",
        "colab_type": "text"
      },
      "source": [
        "Q.4 Write a Python's user defined function that removes all the additional characters from the stringand converts it finally to lower case using built-in lower(). eg: If the string is \"Dr. Darshan Ingle@AI-ML Trainer\", then the output be \"drdarshaningleaimltrainer\"."
      ]
    },
    {
      "cell_type": "code",
      "metadata": {
        "id": "D87yybaV7CKs",
        "colab_type": "code",
        "colab": {
          "base_uri": "https://localhost:8080/",
          "height": 34
        },
        "outputId": "ea4012c2-85aa-4a7a-c767-2ebb2596f70b"
      },
      "source": [
        "\n",
        "s = \"Dr.Darshan ingle@ Ai-Ml Trainer\"\n",
        "a=\"\"\n",
        "\n",
        "for i in range(len(s)):\n",
        "    if(s[i].isalnum()):\n",
        "        a=a+s[i]\n",
        "        a=a.lower()\n",
        "print(a)"
      ],
      "execution_count": 11,
      "outputs": [
        {
          "output_type": "stream",
          "text": [
            "drdarshaningleaimltrainer\n"
          ],
          "name": "stdout"
        }
      ]
    }
  ]
}