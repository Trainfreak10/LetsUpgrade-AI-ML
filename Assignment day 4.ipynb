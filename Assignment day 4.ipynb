{
  "nbformat": 4,
  "nbformat_minor": 0,
  "metadata": {
    "colab": {
      "name": "Untitled1.ipynb",
      "provenance": []
    },
    "kernelspec": {
      "name": "python3",
      "display_name": "Python 3"
    }
  },
  "cells": [
    {
      "cell_type": "markdown",
      "metadata": {
        "id": "1h6-UtC1rcCi",
        "colab_type": "text"
      },
      "source": [
        ""
      ]
    },
    {
      "cell_type": "markdown",
      "metadata": {
        "id": "cOsqS9gOrdn1",
        "colab_type": "text"
      },
      "source": [
        "Assignment No 2"
      ]
    },
    {
      "cell_type": "markdown",
      "metadata": {
        "id": "SuAeiccqriYN",
        "colab_type": "text"
      },
      "source": [
        "Q.1 Research on whether addition, subtraction, multiplication, division, floor division and modulo\n",
        "operations be performed on complex numbers. Based on your study, implement a Python\n",
        "program to demonstrate these operations."
      ]
    },
    {
      "cell_type": "code",
      "metadata": {
        "id": "K6d4zABvssXz",
        "colab_type": "code",
        "colab": {
          "base_uri": "https://localhost:8080/",
          "height": 279
        },
        "outputId": "6ddddc91-8115-45a2-a89e-f5f4108018bd"
      },
      "source": [
        "a= 7+25j\n",
        "b=3-15j\n",
        "print(a+b)\n",
        "print(a-b)\n",
        "print(a*b)\n",
        "print(a/b)\n",
        "print(a//b)\n",
        "print(a%b)\n"
      ],
      "execution_count": 6,
      "outputs": [
        {
          "output_type": "stream",
          "text": [
            "(10+10j)\n",
            "(4+40j)\n",
            "(396-30j)\n",
            "(-1.512820512820513+0.7692307692307693j)\n"
          ],
          "name": "stdout"
        },
        {
          "output_type": "error",
          "ename": "TypeError",
          "evalue": "ignored",
          "traceback": [
            "\u001b[0;31m---------------------------------------------------------------------------\u001b[0m",
            "\u001b[0;31mTypeError\u001b[0m                                 Traceback (most recent call last)",
            "\u001b[0;32m<ipython-input-6-32116d85ca20>\u001b[0m in \u001b[0;36m<module>\u001b[0;34m()\u001b[0m\n\u001b[1;32m      5\u001b[0m \u001b[0mprint\u001b[0m\u001b[0;34m(\u001b[0m\u001b[0ma\u001b[0m\u001b[0;34m*\u001b[0m\u001b[0mb\u001b[0m\u001b[0;34m)\u001b[0m\u001b[0;34m\u001b[0m\u001b[0;34m\u001b[0m\u001b[0m\n\u001b[1;32m      6\u001b[0m \u001b[0mprint\u001b[0m\u001b[0;34m(\u001b[0m\u001b[0ma\u001b[0m\u001b[0;34m/\u001b[0m\u001b[0mb\u001b[0m\u001b[0;34m)\u001b[0m\u001b[0;34m\u001b[0m\u001b[0;34m\u001b[0m\u001b[0m\n\u001b[0;32m----> 7\u001b[0;31m \u001b[0mprint\u001b[0m\u001b[0;34m(\u001b[0m\u001b[0ma\u001b[0m\u001b[0;34m//\u001b[0m\u001b[0mb\u001b[0m\u001b[0;34m)\u001b[0m\u001b[0;34m\u001b[0m\u001b[0;34m\u001b[0m\u001b[0m\n\u001b[0m\u001b[1;32m      8\u001b[0m \u001b[0mprint\u001b[0m\u001b[0;34m(\u001b[0m\u001b[0ma\u001b[0m\u001b[0;34m%\u001b[0m\u001b[0mb\u001b[0m\u001b[0;34m)\u001b[0m\u001b[0;34m\u001b[0m\u001b[0;34m\u001b[0m\u001b[0m\n",
            "\u001b[0;31mTypeError\u001b[0m: can't take floor of complex number."
          ]
        }
      ]
    },
    {
      "cell_type": "markdown",
      "metadata": {
        "id": "kbABYsK7uGHQ",
        "colab_type": "text"
      },
      "source": [
        "the modulo and floor division operation can't be performed on floor division."
      ]
    },
    {
      "cell_type": "markdown",
      "metadata": {
        "id": "JbhIMfQUuQtG",
        "colab_type": "text"
      },
      "source": [
        "Q.2 Research on range() functions and its parameters. Create a markdown cell and write in your own\n",
        "words (no copy-paste from google please) what you understand about it. Implement a small\n",
        "program of your choice on the same."
      ]
    },
    {
      "cell_type": "markdown",
      "metadata": {
        "id": "dMhxAvh8ucvG",
        "colab_type": "text"
      },
      "source": [
        "1. The range function is used to define a set of numbers or the number of times a operation is to be performed.\n",
        "2.The range function is represented as (n,m,t)\n",
        "  where:\n",
        "   n is the starting value\n",
        "   m is the ending value (the function takes the last value as m-1)\n",
        "   t is the number of steps to be taken (optional)\n",
        "3. this is demonstrated  below.\n",
        "\n"
      ]
    },
    {
      "cell_type": "code",
      "metadata": {
        "id": "m6nGExx3vgHW",
        "colab_type": "code",
        "colab": {
          "base_uri": "https://localhost:8080/",
          "height": 84
        },
        "outputId": "c4caf681-1b8f-425c-deac-b6c5bef9ffd0"
      },
      "source": [
        "for i in range(1,5,1):\n",
        "  print(i)"
      ],
      "execution_count": 10,
      "outputs": [
        {
          "output_type": "stream",
          "text": [
            "1\n",
            "2\n",
            "3\n",
            "4\n"
          ],
          "name": "stdout"
        }
      ]
    },
    {
      "cell_type": "markdown",
      "metadata": {
        "id": "CyUcuwDIwEqY",
        "colab_type": "text"
      },
      "source": [
        "Q.3  Consider two numbers. Perform their subtraction and if the result of subtraction is greater than\n",
        "25, print their multiplication result else print their division result.\n"
      ]
    },
    {
      "cell_type": "code",
      "metadata": {
        "id": "7_wkxF-YwX1V",
        "colab_type": "code",
        "colab": {
          "base_uri": "https://localhost:8080/",
          "height": 34
        },
        "outputId": "c9c92f4d-c62d-4084-f60e-5cf7842e1bf2"
      },
      "source": [
        "a = 40\n",
        "b = 20\n",
        "c = a-b\n",
        "\n",
        "if (c>25):\n",
        "    print(\"Multiply :\",a*b)\n",
        "else:\n",
        "    print(\"Divide:\",a/b)"
      ],
      "execution_count": 12,
      "outputs": [
        {
          "output_type": "stream",
          "text": [
            "Divide: 2.0\n"
          ],
          "name": "stdout"
        }
      ]
    },
    {
      "cell_type": "markdown",
      "metadata": {
        "id": "B2f_LSbNwjXW",
        "colab_type": "text"
      },
      "source": [
        "Q.4 Consider a list of 10 elements of integer values. If the number in the list is divisible by 2, print the\n",
        "result as \"square of that number minus 2\".\n"
      ]
    },
    {
      "cell_type": "code",
      "metadata": {
        "id": "yJqHBLQFwol9",
        "colab_type": "code",
        "colab": {
          "base_uri": "https://localhost:8080/",
          "height": 134
        },
        "outputId": "ad4f3091-b551-4d3a-892a-4b3cd01b278b"
      },
      "source": [
        "intlist=[2,8,11,20,26,32,33,45,50,52]\n",
        "for i in intlist:\n",
        "  if i%2==0:\n",
        "    a=(i*i)-2\n",
        "    print(a)"
      ],
      "execution_count": 16,
      "outputs": [
        {
          "output_type": "stream",
          "text": [
            "2\n",
            "62\n",
            "398\n",
            "674\n",
            "1022\n",
            "2498\n",
            "2702\n"
          ],
          "name": "stdout"
        }
      ]
    },
    {
      "cell_type": "markdown",
      "metadata": {
        "id": "9UIWTaMTyoBo",
        "colab_type": "text"
      },
      "source": [
        "Q.5 Consider a list of 10 elements. Print all the elements in the list which are greater than 7 when that\n",
        "number is divided 2."
      ]
    },
    {
      "cell_type": "code",
      "metadata": {
        "id": "vY68kQtEys41",
        "colab_type": "code",
        "colab": {
          "base_uri": "https://localhost:8080/",
          "height": 101
        },
        "outputId": "9afd7617-26d1-4f5a-a0a2-cf2245864d19"
      },
      "source": [
        "intlist=[2,8,11,20,26,32,33,45,50,52]\n",
        "for i in intlist:\n",
        "    if((i%2 ==0) and (i/2 > 7)):\n",
        "        print(i)"
      ],
      "execution_count": 19,
      "outputs": [
        {
          "output_type": "stream",
          "text": [
            "20\n",
            "26\n",
            "32\n",
            "50\n",
            "52\n"
          ],
          "name": "stdout"
        }
      ]
    }
  ]
}