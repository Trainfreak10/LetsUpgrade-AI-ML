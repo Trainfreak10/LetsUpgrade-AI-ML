{
 "cells": [
  {
   "cell_type": "code",
   "execution_count": null,
   "metadata": {
    "colab": {},
    "colab_type": "code",
    "id": "tG0pgPi7Z7An"
   },
   "outputs": [],
   "source": []
  },
  {
   "cell_type": "markdown",
   "metadata": {
    "colab_type": "text",
    "id": "SNORouqsZ_WX"
   },
   "source": [
    "# **Assignment 1**"
   ]
  },
  {
   "cell_type": "code",
   "execution_count": null,
   "metadata": {
    "colab": {},
    "colab_type": "code",
    "id": "ITMV2HrcaLbH"
   },
   "outputs": [],
   "source": []
  },
  {
   "cell_type": "markdown",
   "metadata": {
    "colab_type": "text",
    "id": "8MLpbSfEaMEo"
   },
   "source": [
    "Q.1 Write a program to subtract two complex numbers in Python."
   ]
  },
  {
   "cell_type": "code",
   "execution_count": 2,
   "metadata": {
    "colab": {
     "base_uri": "https://localhost:8080/",
     "height": 34
    },
    "colab_type": "code",
    "id": "fDVSxMd2aQp3",
    "outputId": "e2992bed-1887-45e3-f115-8cad448a9491"
   },
   "outputs": [
    {
     "name": "stdout",
     "output_type": "stream",
     "text": [
      "(6-1j)\n"
     ]
    }
   ],
   "source": [
    "a=7+2j\n",
    "b=1+3j\n",
    "c=a-b\n",
    "print(c)"
   ]
  },
  {
   "cell_type": "markdown",
   "metadata": {
    "colab_type": "text",
    "id": "SyLYLdi-apu4"
   },
   "source": [
    "Q.2 Write a program to find the fourth root of a number."
   ]
  },
  {
   "cell_type": "code",
   "execution_count": 3,
   "metadata": {
    "colab": {
     "base_uri": "https://localhost:8080/",
     "height": 34
    },
    "colab_type": "code",
    "id": "ypujNlMHay6H",
    "outputId": "5ad0c735-c8e2-4fa6-812e-b4d77c9556cd"
   },
   "outputs": [
    {
     "name": "stdout",
     "output_type": "stream",
     "text": [
      "3.0\n"
     ]
    }
   ],
   "source": [
    "a=81\n",
    "b=a**.25\n",
    "print(b)\n"
   ]
  },
  {
   "cell_type": "markdown",
   "metadata": {
    "colab_type": "text",
    "id": "iJ0ZDTijblnA"
   },
   "source": [
    "Q.3 Write a program to swap two numbers in Python with the help of a temporary variable."
   ]
  },
  {
   "cell_type": "code",
   "execution_count": 4,
   "metadata": {
    "colab": {
     "base_uri": "https://localhost:8080/",
     "height": 50
    },
    "colab_type": "code",
    "id": "DNBgMbo1btXO",
    "outputId": "bfe6b829-0b54-4455-89c5-67b259669aab"
   },
   "outputs": [
    {
     "name": "stdout",
     "output_type": "stream",
     "text": [
      "Numbers before swap 25 7\n",
      "Numbers after swap 7 25\n"
     ]
    }
   ],
   "source": [
    "a=25\n",
    "b=7\n",
    "\n",
    "print(\"Numbers before swap\",a,b)\n",
    "temp=a\n",
    "a=b\n",
    "b=temp\n",
    "print(\"Numbers after swap\",a,b)"
   ]
  },
  {
   "cell_type": "markdown",
   "metadata": {
    "colab_type": "text",
    "id": "8U6wdAVvciEf"
   },
   "source": [
    "Q.4 Write a program to swap two numbers in Python without using a temporary variable."
   ]
  },
  {
   "cell_type": "code",
   "execution_count": 5,
   "metadata": {
    "colab": {
     "base_uri": "https://localhost:8080/",
     "height": 50
    },
    "colab_type": "code",
    "id": "ovUyihjpcoE2",
    "outputId": "8446e0e6-9157-4deb-ef43-00e3d6b0ed44"
   },
   "outputs": [
    {
     "name": "stdout",
     "output_type": "stream",
     "text": [
      "Numbers before swap 17 23\n",
      "Numbers after swap 23 17\n"
     ]
    }
   ],
   "source": [
    "a=17\n",
    "b=23\n",
    "print(\"Numbers before swap\",a,b)\n",
    "a=a+b\n",
    "b=a-b\n",
    "a=a-b\n",
    "print(\"Numbers after swap\",a,b)"
   ]
  },
  {
   "cell_type": "markdown",
   "metadata": {
    "colab_type": "text",
    "id": "cU7H96ggdSN_"
   },
   "source": [
    "Q.5 Write a program to convert fahrenheit to kelvin and celsius both.\n"
   ]
  },
  {
   "cell_type": "markdown",
   "metadata": {
    "colab_type": "text",
    "id": "IYaLtC5Sd16h"
   },
   "source": []
  },
  {
   "cell_type": "code",
   "execution_count": 9,
   "metadata": {
    "colab": {
     "base_uri": "https://localhost:8080/",
     "height": 67
    },
    "colab_type": "code",
    "id": "eun-NYL8dbbX",
    "outputId": "a9e85f33-43c2-4c05-9f1d-881a8579216f"
   },
   "outputs": [
    {
     "name": "stdout",
     "output_type": "stream",
     "text": [
      "temperature input in F= 32\n",
      "Celsius= 0.0\n",
      "Kelvin= 273.15\n"
     ]
    }
   ],
   "source": [
    "print(\"temperature input in F= 32\")\n",
    "f=32\n",
    "c=(f-32)*5/9\n",
    "k=c+273.15\n",
    "print(\"Celsius=\",c)\n",
    "print(\"Kelvin=\",k)"
   ]
  },
  {
   "cell_type": "markdown",
   "metadata": {
    "colab_type": "text",
    "id": "PIhQgwOQfvZq"
   },
   "source": [
    "Q.6 Write a program to demonstrate all the available data types in Python. Hint: Use type() function.\n"
   ]
  },
  {
   "cell_type": "code",
   "execution_count": 13,
   "metadata": {
    "colab": {
     "base_uri": "https://localhost:8080/",
     "height": 134
    },
    "colab_type": "code",
    "id": "sb4JVZMFf2gQ",
    "outputId": "3462d3a4-baa9-4130-e310-8d7dfb4ea133"
   },
   "outputs": [
    {
     "name": "stdout",
     "output_type": "stream",
     "text": [
      "<class 'int'>\n",
      "<class 'float'>\n",
      "<class 'str'>\n",
      "<class 'complex'>\n",
      "<class 'list'>\n",
      "<class 'tuple'>\n",
      "<class 'dict'>\n"
     ]
    }
   ],
   "source": [
    "print(type(13))\n",
    "print(type(1.3))\n",
    "print(type(\"hi\"))\n",
    "print(type(13+2j))\n",
    "print(type([1,7,25]))\n",
    "print(type((17,23,25)))\n",
    "print(type({1:\"Lets\",2:\"Upgrade\"}))\n"
   ]
  },
  {
   "cell_type": "markdown",
   "metadata": {
    "colab_type": "text",
    "id": "vvgqqamphFga"
   },
   "source": [
    "Q.7 Create a Markdown cell in jupyter and list the steps discussed in the session by Dr. Darshan\n",
    "Ingle sir to create Github profile and upload Githubs Assignment link."
   ]
  },
  {
   "cell_type": "markdown",
   "metadata": {
    "colab_type": "text",
    "id": "UCNTt8xnhtU_"
   },
   "source": [
    "Steps to follow\n",
    "\n",
    "\n",
    "*  Sign up in github website\n",
    "*  Create a new repository under the name Letsupgrade AI-ML\n",
    "*  Drag and drop the file to the created repository after clicking the upload existing files \n",
    "\n",
    "\n",
    " \n",
    "\n"
   ]
  }
 ],
 "metadata": {
  "colab": {
   "name": "Untitled0.ipynb",
   "provenance": []
  },
  "kernelspec": {
   "display_name": "Python 3",
   "language": "python",
   "name": "python3"
  },
  "language_info": {
   "codemirror_mode": {
    "name": "ipython",
    "version": 3
   },
   "file_extension": ".py",
   "mimetype": "text/x-python",
   "name": "python",
   "nbconvert_exporter": "python",
   "pygments_lexer": "ipython3",
   "version": "3.7.6"
  }
 },
 "nbformat": 4,
 "nbformat_minor": 1
}
