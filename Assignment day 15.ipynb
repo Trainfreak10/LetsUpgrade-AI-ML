{
  "nbformat": 4,
  "nbformat_minor": 0,
  "metadata": {
    "kernelspec": {
      "display_name": "Python 3",
      "language": "python",
      "name": "python3"
    },
    "language_info": {
      "codemirror_mode": {
        "name": "ipython",
        "version": 3
      },
      "file_extension": ".py",
      "mimetype": "text/x-python",
      "name": "python",
      "nbconvert_exporter": "python",
      "pygments_lexer": "ipython3",
      "version": "3.7.4"
    },
    "colab": {
      "name": "Numpy Assignment Questions 23 july 2020- Lets Upgrade.ipynb",
      "provenance": []
    }
  },
  "cells": [
    {
      "cell_type": "markdown",
      "metadata": {
        "id": "zKLMz8cMUZDV",
        "colab_type": "text"
      },
      "source": [
        "# 1. Create a 3x3x3 array with random values "
      ]
    },
    {
      "cell_type": "code",
      "metadata": {
        "id": "M-YxZNixUZDX",
        "colab_type": "code",
        "colab": {
          "base_uri": "https://localhost:8080/",
          "height": 202
        },
        "outputId": "747e19c7-13f0-429f-f858-92139c121291"
      },
      "source": [
        "import numpy as np\n",
        "arr = np.empty((3,3,3))\n",
        "print(arr)"
      ],
      "execution_count": 1,
      "outputs": [
        {
          "output_type": "stream",
          "text": [
            "[[[1.13638893e-316 2.14838399e-316 1.48219694e-323]\n",
            "  [6.94883404e-310 0.00000000e+000 6.94883404e-310]\n",
            "  [2.12199579e-314 6.94883404e-310 0.00000000e+000]]\n",
            "\n",
            " [[0.00000000e+000 0.00000000e+000 2.12199579e-311]\n",
            "  [            nan 2.12199579e-314 4.94065646e-324]\n",
            "  [4.94065646e-324 0.00000000e+000 1.13627826e-316]]\n",
            "\n",
            " [[2.02265377e-316 2.12199579e-314 1.46399240e-316]\n",
            "  [2.47032823e-323 4.94065646e-324 0.00000000e+000]\n",
            "  [1.13286051e-316 2.00224530e-316 4.94065646e-324]]]\n"
          ],
          "name": "stdout"
        }
      ]
    },
    {
      "cell_type": "markdown",
      "metadata": {
        "id": "isDaZxe6UZDg",
        "colab_type": "text"
      },
      "source": [
        "# 2.Create a 5x5 matrix with values 1,2,3,4 just below the diagonal"
      ]
    },
    {
      "cell_type": "code",
      "metadata": {
        "id": "xJvjZmQuUZDi",
        "colab_type": "code",
        "colab": {
          "base_uri": "https://localhost:8080/",
          "height": 101
        },
        "outputId": "4c9de2fe-2246-488e-84c3-581e451b2542"
      },
      "source": [
        "import numpy as np\n",
        "arr = np.zeros((5,5))\n",
        "arr[1][0]=1\n",
        "arr[2][1]=2\n",
        "arr[3][2]=3\n",
        "arr[4][3]=4\n",
        "print(arr)"
      ],
      "execution_count": 2,
      "outputs": [
        {
          "output_type": "stream",
          "text": [
            "[[0. 0. 0. 0. 0.]\n",
            " [1. 0. 0. 0. 0.]\n",
            " [0. 2. 0. 0. 0.]\n",
            " [0. 0. 3. 0. 0.]\n",
            " [0. 0. 0. 4. 0.]]\n"
          ],
          "name": "stdout"
        }
      ]
    },
    {
      "cell_type": "markdown",
      "metadata": {
        "id": "UCDYYHWbUZDn",
        "colab_type": "text"
      },
      "source": [
        "# 3.Create a 8x8 matrix and fill it with a checkerboard pattern"
      ]
    },
    {
      "cell_type": "code",
      "metadata": {
        "id": "tgbhXi-LUZDo",
        "colab_type": "code",
        "colab": {
          "base_uri": "https://localhost:8080/",
          "height": 151
        },
        "outputId": "3ba3cfad-5633-4130-a551-fc6c5a9582ec"
      },
      "source": [
        "import numpy as np\n",
        "arr = np.zeros((8,8))\n",
        "i=0\n",
        "arr[1::2,::2]=1\n",
        "arr[::2,1::2]=1\n",
        "print(arr)"
      ],
      "execution_count": 3,
      "outputs": [
        {
          "output_type": "stream",
          "text": [
            "[[0. 1. 0. 1. 0. 1. 0. 1.]\n",
            " [1. 0. 1. 0. 1. 0. 1. 0.]\n",
            " [0. 1. 0. 1. 0. 1. 0. 1.]\n",
            " [1. 0. 1. 0. 1. 0. 1. 0.]\n",
            " [0. 1. 0. 1. 0. 1. 0. 1.]\n",
            " [1. 0. 1. 0. 1. 0. 1. 0.]\n",
            " [0. 1. 0. 1. 0. 1. 0. 1.]\n",
            " [1. 0. 1. 0. 1. 0. 1. 0.]]\n"
          ],
          "name": "stdout"
        }
      ]
    },
    {
      "cell_type": "markdown",
      "metadata": {
        "id": "Xr4ZQMNRUZDx",
        "colab_type": "text"
      },
      "source": [
        "# 4. Normalize a 5x5 random matrix"
      ]
    },
    {
      "cell_type": "code",
      "metadata": {
        "id": "k-FdaBoaUZDz",
        "colab_type": "code",
        "colab": {
          "base_uri": "https://localhost:8080/",
          "height": 185
        },
        "outputId": "278b3991-3512-4970-e741-2fac99cb168e"
      },
      "source": [
        "import numpy as np\n",
        "a = np.random.rand(5,5)\n",
        "print(\"Array: \",a)\n",
        "norm = np.linalg.norm(a)\n",
        "norm_arr=a/norm\n",
        "print(\"Normalized Array:\",norm_arr)"
      ],
      "execution_count": 4,
      "outputs": [
        {
          "output_type": "stream",
          "text": [
            "Array:  [[0.9718671  0.1404822  0.21089025 0.63565359 0.1152008 ]\n",
            " [0.57922694 0.66674198 0.93710477 0.43355891 0.53266167]\n",
            " [0.22539272 0.25910519 0.0538514  0.90995057 0.42519626]\n",
            " [0.91592385 0.22070282 0.67360131 0.92257461 0.05342806]\n",
            " [0.66361536 0.05620773 0.99027901 0.19612246 0.62863846]]\n",
            "Normalized Array: [[0.32876099 0.047522   0.07133947 0.21502745 0.03896987]\n",
            " [0.19593957 0.22554396 0.31700167 0.14666332 0.18018757]\n",
            " [0.07624533 0.08764951 0.01821673 0.307816   0.14383442]\n",
            " [0.30983663 0.07465885 0.22786431 0.31208644 0.01807352]\n",
            " [0.22448629 0.01901382 0.33498933 0.06634386 0.21265439]]\n"
          ],
          "name": "stdout"
        }
      ]
    },
    {
      "cell_type": "markdown",
      "metadata": {
        "id": "H2gHegxYUZD6",
        "colab_type": "text"
      },
      "source": [
        "# 5.  How to find common values between two arrays?"
      ]
    },
    {
      "cell_type": "code",
      "metadata": {
        "id": "rpH0jBjVUZD7",
        "colab_type": "code",
        "colab": {
          "base_uri": "https://localhost:8080/",
          "height": 34
        },
        "outputId": "b7c5d977-04a5-4c7d-d4e3-d8874b4f57ab"
      },
      "source": [
        "arr1 = [1,2,3]\n",
        "arr2=[2,3,5]\n",
        "print(np.intersect1d(arr1,arr2))"
      ],
      "execution_count": 5,
      "outputs": [
        {
          "output_type": "stream",
          "text": [
            "[2 3]\n"
          ],
          "name": "stdout"
        }
      ]
    },
    {
      "cell_type": "markdown",
      "metadata": {
        "id": "mjgTOdtXUZEA",
        "colab_type": "text"
      },
      "source": [
        "# 6.How to get the dates of yesterday, today and tomorrow?"
      ]
    },
    {
      "cell_type": "code",
      "metadata": {
        "id": "1b6fxVLUUZEB",
        "colab_type": "code",
        "colab": {
          "base_uri": "https://localhost:8080/",
          "height": 67
        },
        "outputId": "77f4e230-12f8-4dfd-cf17-e3588d846120"
      },
      "source": [
        "import datetime\n",
        "today=datetime.date.today()\n",
        "yesterday=today - datetime.timedelta(days=1)\n",
        "tomorrow = today+datetime.timedelta(days=1)\n",
        "\n",
        "print(yesterday)\n",
        "print(today)\n",
        "print(tomorrow)"
      ],
      "execution_count": 6,
      "outputs": [
        {
          "output_type": "stream",
          "text": [
            "2020-07-27\n",
            "2020-07-28\n",
            "2020-07-29\n"
          ],
          "name": "stdout"
        }
      ]
    },
    {
      "cell_type": "markdown",
      "metadata": {
        "id": "6gPmOgJcUZEG",
        "colab_type": "text"
      },
      "source": [
        "# 7. Consider two random array A and B, check if they are equal"
      ]
    },
    {
      "cell_type": "code",
      "metadata": {
        "id": "hWPRMVStUZEH",
        "colab_type": "code",
        "colab": {
          "base_uri": "https://localhost:8080/",
          "height": 101
        },
        "outputId": "56f82f8a-9061-45e7-c11c-61540f09d2a4"
      },
      "source": [
        "a=np.random.rand(2,2)\n",
        "b=np.random.rand(2,2)\n",
        "print(\"a:\",a)\n",
        "print(\"b:\",b)\n",
        "if (a==b).all():\n",
        "    print(\"They are equal\")\n",
        "else:\n",
        "    print(\"They are not equal\")"
      ],
      "execution_count": 7,
      "outputs": [
        {
          "output_type": "stream",
          "text": [
            "a: [[0.92082034 0.01248287]\n",
            " [0.74179986 0.00714773]]\n",
            "b: [[0.45065332 0.61403997]\n",
            " [0.37461574 0.50791567]]\n",
            "They are not equal\n"
          ],
          "name": "stdout"
        }
      ]
    },
    {
      "cell_type": "markdown",
      "metadata": {
        "id": "DnNoUJA5UZEK",
        "colab_type": "text"
      },
      "source": [
        "# 8.Create random vector of size 10 and replace the maximum value by 0 "
      ]
    },
    {
      "cell_type": "code",
      "metadata": {
        "id": "5b6X3HOBUZEL",
        "colab_type": "code",
        "colab": {
          "base_uri": "https://localhost:8080/",
          "height": 84
        },
        "outputId": "e2c29e15-a76d-4e27-f92c-eeb7712495de"
      },
      "source": [
        "\n",
        "v=np.random.rand(10)\n",
        "print(v)\n",
        "max_no = np.where(v==v.max())\n",
        "v[max_no]=0\n",
        "print(v)"
      ],
      "execution_count": 10,
      "outputs": [
        {
          "output_type": "stream",
          "text": [
            "[0.54075274 0.89412683 0.80431627 0.27574789 0.33487386 0.83638751\n",
            " 0.61265854 0.38197879 0.11538854 0.21816595]\n",
            "[0.54075274 0.         0.80431627 0.27574789 0.33487386 0.83638751\n",
            " 0.61265854 0.38197879 0.11538854 0.21816595]\n"
          ],
          "name": "stdout"
        }
      ]
    },
    {
      "cell_type": "markdown",
      "metadata": {
        "id": "_gKTN9abUZEO",
        "colab_type": "text"
      },
      "source": [
        "# 9. How to print all the values of an array?"
      ]
    },
    {
      "cell_type": "code",
      "metadata": {
        "id": "fVr_l1GyUZEP",
        "colab_type": "code",
        "colab": {
          "base_uri": "https://localhost:8080/",
          "height": 50
        },
        "outputId": "c2524815-4b2b-4ee5-8c8a-f2788385a69e"
      },
      "source": [
        "\n",
        "arr = np.array([[1,2,3],[12,23,45]])\n",
        "print(arr)"
      ],
      "execution_count": 11,
      "outputs": [
        {
          "output_type": "stream",
          "text": [
            "[[ 1  2  3]\n",
            " [12 23 45]]\n"
          ],
          "name": "stdout"
        }
      ]
    },
    {
      "cell_type": "markdown",
      "metadata": {
        "id": "gqSminxnUZES",
        "colab_type": "text"
      },
      "source": [
        "# 10.Subtract the mean of each row of a matrix"
      ]
    },
    {
      "cell_type": "code",
      "metadata": {
        "id": "k9Yjbh8pUZET",
        "colab_type": "code",
        "colab": {
          "base_uri": "https://localhost:8080/",
          "height": 84
        },
        "outputId": "e9ac1540-abc6-4c2b-8652-2e86e2e1e3ea"
      },
      "source": [
        "\n",
        "mat = np.random.rand(2,3)\n",
        "print(mat)\n",
        "new_mat = mat -  mat.mean(axis=1,keepdims=True)\n",
        "print(new_mat)"
      ],
      "execution_count": 12,
      "outputs": [
        {
          "output_type": "stream",
          "text": [
            "[[0.22240917 0.83726755 0.80223366]\n",
            " [0.73486121 0.33527125 0.19056801]]\n",
            "[[-0.39822763  0.21663076  0.18159687]\n",
            " [ 0.31462772 -0.08496224 -0.22966548]]\n"
          ],
          "name": "stdout"
        }
      ]
    },
    {
      "cell_type": "markdown",
      "metadata": {
        "id": "sHETZ-KDUZEX",
        "colab_type": "text"
      },
      "source": [
        "# 11.Consider a given vector, how to add 1 to each element indexed by a second vector (be careful with repeated indices)? "
      ]
    },
    {
      "cell_type": "code",
      "metadata": {
        "id": "JPGyEzwXUZEX",
        "colab_type": "code",
        "colab": {
          "base_uri": "https://localhost:8080/",
          "height": 34
        },
        "outputId": "c475a7bc-6516-40ba-cdd4-07dcb89edd2a"
      },
      "source": [
        "def repeated(v):\n",
        "    dup_items = set()\n",
        "    uniq_items = []\n",
        "    for x in v:\n",
        "        if x not in dup_items:\n",
        "            uniq_items.append(x)\n",
        "            dup_items.add(x)\n",
        "    return uniq_items\n",
        "    \n",
        "import numpy as np\n",
        "v=np.array([1,2,5,7,8])\n",
        "index = np.array([1,1,2,0])\n",
        "new_index=repeated(index)\n",
        "for a in new_index:\n",
        "    v[a]=v[a]+1\n",
        "print(v)"
      ],
      "execution_count": 13,
      "outputs": [
        {
          "output_type": "stream",
          "text": [
            "[2 3 6 7 8]\n"
          ],
          "name": "stdout"
        }
      ]
    },
    {
      "cell_type": "markdown",
      "metadata": {
        "id": "867SEswiUZEd",
        "colab_type": "text"
      },
      "source": [
        "# 12.How to get the diagonal of a dot product?"
      ]
    },
    {
      "cell_type": "code",
      "metadata": {
        "id": "P2L1PB-DUZEe",
        "colab_type": "code",
        "colab": {
          "base_uri": "https://localhost:8080/",
          "height": 34
        },
        "outputId": "64f8f530-f1e8-4de0-8ae4-f0b12acc067e"
      },
      "source": [
        "a=np.array([[1,2,3],[2,5,4]])\n",
        "b=np.array([[2,3],[8,5],[9,6]])\n",
        "c=a.dot(b)\n",
        "print(np.diagonal(c))"
      ],
      "execution_count": 14,
      "outputs": [
        {
          "output_type": "stream",
          "text": [
            "[45 55]\n"
          ],
          "name": "stdout"
        }
      ]
    },
    {
      "cell_type": "markdown",
      "metadata": {
        "id": "nzryV_l7UZEh",
        "colab_type": "text"
      },
      "source": [
        "# 13.How to find the most frequent value in an array?"
      ]
    },
    {
      "cell_type": "code",
      "metadata": {
        "id": "vnVFTx4pUZEi",
        "colab_type": "code",
        "colab": {
          "base_uri": "https://localhost:8080/",
          "height": 34
        },
        "outputId": "bcc03962-1933-4d73-b629-6a460abcdae6"
      },
      "source": [
        "import numpy as np\n",
        "from scipy import stats\n",
        "\n",
        "a = np.array([1, 3, 4, 2, 2, 2])\n",
        "\n",
        "bin = np.bincount(a)\n",
        "print(bin.argmax())"
      ],
      "execution_count": 15,
      "outputs": [
        {
          "output_type": "stream",
          "text": [
            "2\n"
          ],
          "name": "stdout"
        }
      ]
    },
    {
      "cell_type": "markdown",
      "metadata": {
        "id": "saIZNDeUUZEk",
        "colab_type": "text"
      },
      "source": [
        "# 14.How to get the n largest values of an array"
      ]
    },
    {
      "cell_type": "code",
      "metadata": {
        "id": "Tquz2BwcUZEl",
        "colab_type": "code",
        "colab": {
          "base_uri": "https://localhost:8080/",
          "height": 34
        },
        "outputId": "81abcbc4-308e-43a5-a1b8-d279585b9e55"
      },
      "source": [
        "\n",
        "a = np.array([1, 3, 4, 2, 2,2])\n",
        "n=3\n",
        "v=a[np.argsort(a)]\n",
        "print(v[-n:])"
      ],
      "execution_count": 16,
      "outputs": [
        {
          "output_type": "stream",
          "text": [
            "[2 3 4]\n"
          ],
          "name": "stdout"
        }
      ]
    },
    {
      "cell_type": "markdown",
      "metadata": {
        "id": "uLUdrmOTUZEr",
        "colab_type": "text"
      },
      "source": [
        "# 15.How to create a record array from a regular array?"
      ]
    },
    {
      "cell_type": "code",
      "metadata": {
        "id": "LHFF3P-WUZEr",
        "colab_type": "code",
        "colab": {
          "base_uri": "https://localhost:8080/",
          "height": 134
        },
        "outputId": "8cb47b7d-cfc6-4cf4-df59-560cb6991f58"
      },
      "source": [
        "import numpy as np\n",
        "arra1 = np.array([(\"VAISHNAVI\", 20, 90),\n",
        "                 (\"VARAD\", 17, 99),\n",
        "             (\"ANJALI\", 48, 91)])\n",
        "print(\"Original arrays:\")\n",
        "print(arra1)\n",
        "print(\"\\nRecord array;\")\n",
        "result = np.core.records.fromarrays(arra1.T,\n",
        "                              names='NAME, AGE, MARKS')\n",
        "print(result)"
      ],
      "execution_count": 17,
      "outputs": [
        {
          "output_type": "stream",
          "text": [
            "Original arrays:\n",
            "[['VAISHNAVI' '20' '90']\n",
            " ['VARAD' '17' '99']\n",
            " ['ANJALI' '48' '91']]\n",
            "\n",
            "Record array;\n",
            "[('VAISHNAVI', '20', '90') ('VARAD', '17', '99') ('ANJALI', '48', '91')]\n"
          ],
          "name": "stdout"
        }
      ]
    }
  ]
}