{
  "nbformat": 4,
  "nbformat_minor": 0,
  "metadata": {
    "colab": {
      "name": "Untitled2.ipynb",
      "provenance": [],
      "collapsed_sections": []
    },
    "kernelspec": {
      "name": "python3",
      "display_name": "Python 3"
    }
  },
  "cells": [
    {
      "cell_type": "markdown",
      "metadata": {
        "id": "20rYeWyKI_c6",
        "colab_type": "text"
      },
      "source": [
        "Day **6** Assignment"
      ]
    },
    {
      "cell_type": "markdown",
      "metadata": {
        "id": "mFEPS2TBJSQE",
        "colab_type": "text"
      },
      "source": [
        "Q1) Assuming that we have some email addresses in the \"username@companyname.com\" format, please write program to print the company name of a given email address. Both user names and company names are composed of lettersonly."
      ]
    },
    {
      "cell_type": "code",
      "metadata": {
        "id": "Kr_cb9LgJhy2",
        "colab_type": "code",
        "colab": {
          "base_uri": "https://localhost:8080/",
          "height": 50
        },
        "outputId": "bef972cd-1465-4be6-fe33-8c721c880f40"
      },
      "source": [
        "import re \n",
        "a = input(\"Add the Email add:\") #This will take user emailid\n",
        "conv = (\"(\\w+)@(\\w+)\\.(com)\") #format of the user id\n",
        "b = re.match(conv,a) #Matching the format with user id\n",
        "print (b.group(2))# The number in the parameter defines the write fromat we want to print"
      ],
      "execution_count": 1,
      "outputs": [
        {
          "output_type": "stream",
          "text": [
            "Add the Email add:trainfreak@gmail.com\n",
            "gmail\n"
          ],
          "name": "stdout"
        }
      ]
    },
    {
      "cell_type": "markdown",
      "metadata": {
        "id": "4zFoV_hoJ42O",
        "colab_type": "text"
      },
      "source": [
        "Q2) Write a program that accepts a comma-separated sequence of words as input and prints the words in a commaseparated sequence after sorting them alphabetically.\n"
      ]
    },
    {
      "cell_type": "code",
      "metadata": {
        "id": "Qxa9nY1yKFbn",
        "colab_type": "code",
        "colab": {
          "base_uri": "https://localhost:8080/",
          "height": 50
        },
        "outputId": "23e6d28c-09e0-4ca7-8f36-cbfd6d132998"
      },
      "source": [
        "x = input(\"Insert comma-separated sequence of words \")\n",
        "b = [b for b in x.split(\",\")]\n",
        "print(\",\".join(sorted(set(b))))"
      ],
      "execution_count": 3,
      "outputs": [
        {
          "output_type": "stream",
          "text": [
            "Insert comma-separated sequence of words u,i,e,o,a\n",
            "a,e,i,o,u\n"
          ],
          "name": "stdout"
        }
      ]
    },
    {
      "cell_type": "markdown",
      "metadata": {
        "id": "3L0a3wKcKjF2",
        "colab_type": "text"
      },
      "source": [
        "Q4) Given a list of n-1 numbers ranging from 1 to n, your task is to find the missing number. There are no duplicates."
      ]
    },
    {
      "cell_type": "code",
      "metadata": {
        "id": "_cDri9-mKtPX",
        "colab_type": "code",
        "colab": {
          "base_uri": "https://localhost:8080/",
          "height": 50
        },
        "outputId": "aa61f5fe-92e5-479c-bf11-2cb537dcf91a"
      },
      "source": [
        "x = [1,2,3,5,6]\n",
        "\n",
        "def missing(number):\n",
        "    a = len(x)\n",
        "    b = (a+1)*(a+2)/2\n",
        "    total = sum(x)\n",
        "    return b - total\n",
        "\n",
        "y = missing(x)\n",
        "print(x)\n",
        "print(\"Missing Value is:\",int(y))"
      ],
      "execution_count": 6,
      "outputs": [
        {
          "output_type": "stream",
          "text": [
            "[1, 2, 3, 5, 6]\n",
            "Missing Value is: 4\n"
          ],
          "name": "stdout"
        }
      ]
    },
    {
      "cell_type": "markdown",
      "metadata": {
        "id": "o1Q9OQy3LDxf",
        "colab_type": "text"
      },
      "source": [
        "Q5) With a given list L, write a program to print this list L after removing all duplicate values with original order reserved Example: If the input list is 12 24 35 24 88 120 155 88 120 155 Then the output should be 12 24 35 88 120 155"
      ]
    },
    {
      "cell_type": "code",
      "metadata": {
        "id": "GpYE1VCxLMgG",
        "colab_type": "code",
        "colab": {
          "base_uri": "https://localhost:8080/",
          "height": 34
        },
        "outputId": "089e30a8-8dd3-4782-ec69-53666dad8dfc"
      },
      "source": [
        "List1 = [12,24,35,24,88,120,155,88,120,155]\n",
        "#Function Sorted & Set is used to sort the values and remove repeated values\n",
        "def clist(list1):\n",
        "    clist = sorted(set(list1))\n",
        "    print(\"Converted & Sorted list:\",clist)\n",
        "\n",
        "clist(List1)"
      ],
      "execution_count": 8,
      "outputs": [
        {
          "output_type": "stream",
          "text": [
            "Converted & Sorted list: [12, 24, 35, 88, 120, 155]\n"
          ],
          "name": "stdout"
        }
      ]
    }
  ]
}